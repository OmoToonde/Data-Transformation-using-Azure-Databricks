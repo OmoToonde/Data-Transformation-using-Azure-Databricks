{
 "cells": [
  {
   "cell_type": "code",
   "execution_count": 1,
   "id": "9ef84a91",
   "metadata": {},
   "outputs": [
    {
     "name": "stdout",
     "output_type": "stream",
     "text": [
      "^C\n"
     ]
    }
   ],
   "source": [
    "!pip install pyspark"
   ]
  },
  {
   "cell_type": "markdown",
   "id": "9284b9d1",
   "metadata": {},
   "source": [
    "**N:B:** You might have issues installing Pyspark, all you need to do is create a new virtual environment to install Pyspark."
   ]
  },
  {
   "cell_type": "code",
   "execution_count": 1,
   "id": "9d439ff4",
   "metadata": {},
   "outputs": [],
   "source": [
    "import pyspark\n",
    "import pandas as pd"
   ]
  },
  {
   "cell_type": "markdown",
   "id": "40b763a9",
   "metadata": {},
   "source": [
    "## Let Generate Fake Data using Faker"
   ]
  },
  {
   "cell_type": "code",
   "execution_count": 3,
   "id": "7e6350fc",
   "metadata": {},
   "outputs": [],
   "source": [
    "from faker import Faker\n",
    "fake = Faker()"
   ]
  },
  {
   "cell_type": "code",
   "execution_count": 4,
   "id": "747da05c",
   "metadata": {},
   "outputs": [
    {
     "name": "stdout",
     "output_type": "stream",
     "text": [
      "Lance Martin\n",
      "Ashley Collins\n",
      "Tracy Underwood\n",
      "Aaron Ray\n",
      "Austin Lynn\n",
      "Tina Stone\n",
      "Richard Thomas\n",
      "Andrew Rodriguez\n",
      "Kathleen Johnson\n",
      "John Robinson\n"
     ]
    }
   ],
   "source": [
    "for _ in range(10):\n",
    "    print(fake.name()) "
   ]
  },
  {
   "cell_type": "code",
   "execution_count": 5,
   "id": "6cf8446b",
   "metadata": {},
   "outputs": [
    {
     "name": "stdout",
     "output_type": "stream",
     "text": [
      "2020-03-15\n",
      "03\n",
      "1973-12-01 02:20:23\n",
      "2010\n",
      "April\n",
      "2022-09-21 23:50:35\n",
      "05:15:41\n",
      "Africa/Freetown\n",
      "Monday\n",
      "19:54:05\n"
     ]
    }
   ],
   "source": [
    "print(fake.date_between(start_date=\"-3y\",end_date=\"-1y\")) # date between 2018 and 2020\n",
    "print(fake.month())\n",
    "print(fake.date_time())\n",
    "print(fake.year())\n",
    "print(fake.month_name())\n",
    "print(fake.date_time_this_year())\n",
    "print(fake.time())\n",
    "print(fake.timezone())\n",
    "print(fake.day_of_week())\n",
    "print(fake.time_object())"
   ]
  },
  {
   "cell_type": "code",
   "execution_count": 6,
   "id": "f31aa277",
   "metadata": {},
   "outputs": [
    {
     "data": {
      "text/plain": [
       "{'username': 'mitchelladam',\n",
       " 'name': 'Daniel Smith',\n",
       " 'sex': 'M',\n",
       " 'address': '611 Makayla Stravenue\\nStaceyport, VA 02984',\n",
       " 'mail': 'bbailey@hotmail.com',\n",
       " 'birthdate': datetime.date(2007, 12, 20)}"
      ]
     },
     "execution_count": 6,
     "metadata": {},
     "output_type": "execute_result"
    }
   ],
   "source": [
    "generateProfile = Faker()\n",
    "\n",
    "generateProfile.simple_profile() "
   ]
  },
  {
   "cell_type": "code",
   "execution_count": 7,
   "id": "58f10e96",
   "metadata": {},
   "outputs": [
    {
     "data": {
      "text/plain": [
       "{'job': 'Statistician',\n",
       " 'company': 'Andersen, Norton and Hood',\n",
       " 'ssn': '689-10-2615',\n",
       " 'residence': '3479 Palmer Islands\\nGraybury, WV 27830',\n",
       " 'current_location': (Decimal('70.0990895'), Decimal('47.161204')),\n",
       " 'blood_group': 'O+',\n",
       " 'website': ['http://wallace.org/', 'https://munoz.info/'],\n",
       " 'username': 'ramseyjessica',\n",
       " 'name': 'Tiffany Reyes',\n",
       " 'sex': 'F',\n",
       " 'address': '67750 Robert Landing\\nNorth Julia, KS 23244',\n",
       " 'mail': 'susanlopez@gmail.com',\n",
       " 'birthdate': datetime.date(1964, 9, 7)}"
      ]
     },
     "execution_count": 7,
     "metadata": {},
     "output_type": "execute_result"
    }
   ],
   "source": [
    "generateProfile.profile() "
   ]
  },
  {
   "cell_type": "code",
   "execution_count": 9,
   "id": "ce146894",
   "metadata": {},
   "outputs": [],
   "source": [
    "import pandas as pd \n",
    "\n",
    "generateProfile = Faker()\n",
    "\n",
    "# generate 1000 profiles \n",
    "data = [generateProfile.profile() for i in range(1000)]\n",
    "\n",
    "# save profiles in pandas dataframe\n",
    "df = pd.DataFrame(data)"
   ]
  },
  {
   "cell_type": "code",
   "execution_count": 10,
   "id": "afcc9e60",
   "metadata": {},
   "outputs": [
    {
     "data": {
      "text/html": [
       "<div>\n",
       "<style scoped>\n",
       "    .dataframe tbody tr th:only-of-type {\n",
       "        vertical-align: middle;\n",
       "    }\n",
       "\n",
       "    .dataframe tbody tr th {\n",
       "        vertical-align: top;\n",
       "    }\n",
       "\n",
       "    .dataframe thead th {\n",
       "        text-align: right;\n",
       "    }\n",
       "</style>\n",
       "<table border=\"1\" class=\"dataframe\">\n",
       "  <thead>\n",
       "    <tr style=\"text-align: right;\">\n",
       "      <th></th>\n",
       "      <th>job</th>\n",
       "      <th>company</th>\n",
       "      <th>ssn</th>\n",
       "      <th>residence</th>\n",
       "      <th>current_location</th>\n",
       "      <th>blood_group</th>\n",
       "      <th>website</th>\n",
       "      <th>username</th>\n",
       "      <th>name</th>\n",
       "      <th>sex</th>\n",
       "      <th>address</th>\n",
       "      <th>mail</th>\n",
       "      <th>birthdate</th>\n",
       "    </tr>\n",
       "  </thead>\n",
       "  <tbody>\n",
       "    <tr>\n",
       "      <th>0</th>\n",
       "      <td>Management consultant</td>\n",
       "      <td>Bates Inc</td>\n",
       "      <td>538-20-5825</td>\n",
       "      <td>399 Johnson Springs Apt. 439\\nSouth Mark, WV 2...</td>\n",
       "      <td>(-48.7913485, 104.343450)</td>\n",
       "      <td>B-</td>\n",
       "      <td>[http://garcia.com/, http://www.kim.com/]</td>\n",
       "      <td>joshua81</td>\n",
       "      <td>Julie Marshall</td>\n",
       "      <td>F</td>\n",
       "      <td>0505 Jennifer Underpass Suite 414\\nPort Brando...</td>\n",
       "      <td>abigail14@hotmail.com</td>\n",
       "      <td>1993-10-15</td>\n",
       "    </tr>\n",
       "    <tr>\n",
       "      <th>1</th>\n",
       "      <td>Journalist, newspaper</td>\n",
       "      <td>Wolf, Perkins and Fisher</td>\n",
       "      <td>027-17-3368</td>\n",
       "      <td>451 Lori Ridges\\nLewismouth, KS 16771</td>\n",
       "      <td>(5.1487915, 172.671923)</td>\n",
       "      <td>B+</td>\n",
       "      <td>[http://price.net/, https://navarro.biz/]</td>\n",
       "      <td>fferguson</td>\n",
       "      <td>Steven Simmons</td>\n",
       "      <td>M</td>\n",
       "      <td>00448 John Stream Suite 096\\nKennethside, GA 7...</td>\n",
       "      <td>gfriedman@yahoo.com</td>\n",
       "      <td>1949-03-11</td>\n",
       "    </tr>\n",
       "    <tr>\n",
       "      <th>2</th>\n",
       "      <td>Research scientist (maths)</td>\n",
       "      <td>Dawson Inc</td>\n",
       "      <td>878-32-0473</td>\n",
       "      <td>084 David Land Suite 227\\nJonathanmouth, KY 19218</td>\n",
       "      <td>(-4.1471635, 96.813782)</td>\n",
       "      <td>O-</td>\n",
       "      <td>[https://rush-stanley.biz/, http://www.martine...</td>\n",
       "      <td>linda98</td>\n",
       "      <td>Nicole Morales</td>\n",
       "      <td>F</td>\n",
       "      <td>91724 Ashley Loaf\\nNorth Jamesbury, CA 55841</td>\n",
       "      <td>speterson@gmail.com</td>\n",
       "      <td>1994-03-12</td>\n",
       "    </tr>\n",
       "    <tr>\n",
       "      <th>3</th>\n",
       "      <td>Press photographer</td>\n",
       "      <td>Solis and Sons</td>\n",
       "      <td>563-21-0545</td>\n",
       "      <td>34210 Christina Crossing Apt. 377\\nWilliamshav...</td>\n",
       "      <td>(24.2534065, -56.383052)</td>\n",
       "      <td>A-</td>\n",
       "      <td>[http://stewart.com/, https://www.wallace-step...</td>\n",
       "      <td>spencer43</td>\n",
       "      <td>Juan Cannon</td>\n",
       "      <td>M</td>\n",
       "      <td>PSC 5047, Box 7236\\nAPO AP 33712</td>\n",
       "      <td>mary03@hotmail.com</td>\n",
       "      <td>2004-04-19</td>\n",
       "    </tr>\n",
       "    <tr>\n",
       "      <th>4</th>\n",
       "      <td>Chief Financial Officer</td>\n",
       "      <td>Freeman, Moody and Gallagher</td>\n",
       "      <td>421-12-6482</td>\n",
       "      <td>5759 Smith Trace\\nKathleenville, DE 85329</td>\n",
       "      <td>(-10.9002165, -101.926460)</td>\n",
       "      <td>O+</td>\n",
       "      <td>[https://smith.org/, https://www.robinson.com/]</td>\n",
       "      <td>anthony71</td>\n",
       "      <td>Morgan Smith</td>\n",
       "      <td>F</td>\n",
       "      <td>USS Moore\\nFPO AP 94862</td>\n",
       "      <td>ruth26@gmail.com</td>\n",
       "      <td>1955-06-24</td>\n",
       "    </tr>\n",
       "  </tbody>\n",
       "</table>\n",
       "</div>"
      ],
      "text/plain": [
       "                          job                       company          ssn  \\\n",
       "0       Management consultant                     Bates Inc  538-20-5825   \n",
       "1       Journalist, newspaper      Wolf, Perkins and Fisher  027-17-3368   \n",
       "2  Research scientist (maths)                    Dawson Inc  878-32-0473   \n",
       "3          Press photographer                Solis and Sons  563-21-0545   \n",
       "4     Chief Financial Officer  Freeman, Moody and Gallagher  421-12-6482   \n",
       "\n",
       "                                           residence  \\\n",
       "0  399 Johnson Springs Apt. 439\\nSouth Mark, WV 2...   \n",
       "1              451 Lori Ridges\\nLewismouth, KS 16771   \n",
       "2  084 David Land Suite 227\\nJonathanmouth, KY 19218   \n",
       "3  34210 Christina Crossing Apt. 377\\nWilliamshav...   \n",
       "4          5759 Smith Trace\\nKathleenville, DE 85329   \n",
       "\n",
       "             current_location blood_group  \\\n",
       "0   (-48.7913485, 104.343450)          B-   \n",
       "1     (5.1487915, 172.671923)          B+   \n",
       "2     (-4.1471635, 96.813782)          O-   \n",
       "3    (24.2534065, -56.383052)          A-   \n",
       "4  (-10.9002165, -101.926460)          O+   \n",
       "\n",
       "                                             website   username  \\\n",
       "0          [http://garcia.com/, http://www.kim.com/]   joshua81   \n",
       "1          [http://price.net/, https://navarro.biz/]  fferguson   \n",
       "2  [https://rush-stanley.biz/, http://www.martine...    linda98   \n",
       "3  [http://stewart.com/, https://www.wallace-step...  spencer43   \n",
       "4    [https://smith.org/, https://www.robinson.com/]  anthony71   \n",
       "\n",
       "             name sex                                            address  \\\n",
       "0  Julie Marshall   F  0505 Jennifer Underpass Suite 414\\nPort Brando...   \n",
       "1  Steven Simmons   M  00448 John Stream Suite 096\\nKennethside, GA 7...   \n",
       "2  Nicole Morales   F       91724 Ashley Loaf\\nNorth Jamesbury, CA 55841   \n",
       "3     Juan Cannon   M                   PSC 5047, Box 7236\\nAPO AP 33712   \n",
       "4    Morgan Smith   F                            USS Moore\\nFPO AP 94862   \n",
       "\n",
       "                    mail   birthdate  \n",
       "0  abigail14@hotmail.com  1993-10-15  \n",
       "1    gfriedman@yahoo.com  1949-03-11  \n",
       "2    speterson@gmail.com  1994-03-12  \n",
       "3     mary03@hotmail.com  2004-04-19  \n",
       "4       ruth26@gmail.com  1955-06-24  "
      ]
     },
     "execution_count": 10,
     "metadata": {},
     "output_type": "execute_result"
    }
   ],
   "source": [
    "df.head()"
   ]
  },
  {
   "cell_type": "code",
   "execution_count": 11,
   "id": "da377aa4",
   "metadata": {},
   "outputs": [
    {
     "data": {
      "text/plain": [
       "Index(['job', 'company', 'ssn', 'residence', 'current_location', 'blood_group',\n",
       "       'website', 'username', 'name', 'sex', 'address', 'mail', 'birthdate'],\n",
       "      dtype='object')"
      ]
     },
     "execution_count": 11,
     "metadata": {},
     "output_type": "execute_result"
    }
   ],
   "source": [
    "df.columns"
   ]
  },
  {
   "cell_type": "code",
   "execution_count": 20,
   "id": "3b3d4f33",
   "metadata": {},
   "outputs": [
    {
     "name": "stdout",
     "output_type": "stream",
     "text": [
      "<class 'pandas.core.frame.DataFrame'>\n",
      "RangeIndex: 1000 entries, 0 to 999\n",
      "Data columns (total 13 columns):\n",
      " #   Column            Non-Null Count  Dtype         \n",
      "---  ------            --------------  -----         \n",
      " 0   job               1000 non-null   object        \n",
      " 1   company           1000 non-null   object        \n",
      " 2   ssn               1000 non-null   object        \n",
      " 3   residence         1000 non-null   object        \n",
      " 4   current_location  1000 non-null   object        \n",
      " 5   blood_group       1000 non-null   object        \n",
      " 6   website           1000 non-null   object        \n",
      " 7   username          1000 non-null   object        \n",
      " 8   name              1000 non-null   object        \n",
      " 9   sex               1000 non-null   object        \n",
      " 10  address           1000 non-null   object        \n",
      " 11  mail              1000 non-null   object        \n",
      " 12  birthdate         1000 non-null   datetime64[ns]\n",
      "dtypes: datetime64[ns](1), object(12)\n",
      "memory usage: 101.7+ KB\n"
     ]
    }
   ],
   "source": [
    "df.info()"
   ]
  },
  {
   "cell_type": "code",
   "execution_count": 19,
   "id": "b3af504c",
   "metadata": {},
   "outputs": [],
   "source": [
    "df[\"birthdate\"] = pd.to_datetime(df[\"birthdate\"])"
   ]
  },
  {
   "cell_type": "code",
   "execution_count": 21,
   "id": "9a2a2c87",
   "metadata": {},
   "outputs": [],
   "source": [
    "df.to_csv(\"Fakedata_Clean.csv\")#This the next step"
   ]
  },
  {
   "cell_type": "code",
   "execution_count": 24,
   "id": "1c6a18eb",
   "metadata": {},
   "outputs": [
    {
     "data": {
      "text/html": [
       "<div>\n",
       "<style scoped>\n",
       "    .dataframe tbody tr th:only-of-type {\n",
       "        vertical-align: middle;\n",
       "    }\n",
       "\n",
       "    .dataframe tbody tr th {\n",
       "        vertical-align: top;\n",
       "    }\n",
       "\n",
       "    .dataframe thead th {\n",
       "        text-align: right;\n",
       "    }\n",
       "</style>\n",
       "<table border=\"1\" class=\"dataframe\">\n",
       "  <thead>\n",
       "    <tr style=\"text-align: right;\">\n",
       "      <th></th>\n",
       "      <th>job</th>\n",
       "      <th>company</th>\n",
       "      <th>ssn</th>\n",
       "      <th>residence</th>\n",
       "      <th>current_location</th>\n",
       "      <th>blood_group</th>\n",
       "      <th>website</th>\n",
       "      <th>username</th>\n",
       "      <th>name</th>\n",
       "      <th>sex</th>\n",
       "      <th>address</th>\n",
       "      <th>mail</th>\n",
       "      <th>birthdate</th>\n",
       "    </tr>\n",
       "  </thead>\n",
       "  <tbody>\n",
       "    <tr>\n",
       "      <th>0</th>\n",
       "      <td>Management consultant</td>\n",
       "      <td>Bates Inc</td>\n",
       "      <td>538-20-5825</td>\n",
       "      <td>399 Johnson Springs Apt. 439\\nSouth Mark, WV 2...</td>\n",
       "      <td>(Decimal('-48.7913485'), Decimal('104.343450'))</td>\n",
       "      <td>B-</td>\n",
       "      <td>['http://garcia.com/', 'http://www.kim.com/']</td>\n",
       "      <td>joshua81</td>\n",
       "      <td>Julie Marshall</td>\n",
       "      <td>F</td>\n",
       "      <td>0505 Jennifer Underpass Suite 414\\nPort Brando...</td>\n",
       "      <td>abigail14@hotmail.com</td>\n",
       "      <td>1993-10-15</td>\n",
       "    </tr>\n",
       "    <tr>\n",
       "      <th>1</th>\n",
       "      <td>Journalist, newspaper</td>\n",
       "      <td>Wolf, Perkins and Fisher</td>\n",
       "      <td>027-17-3368</td>\n",
       "      <td>451 Lori Ridges\\nLewismouth, KS 16771</td>\n",
       "      <td>(Decimal('5.1487915'), Decimal('172.671923'))</td>\n",
       "      <td>B+</td>\n",
       "      <td>['http://price.net/', 'https://navarro.biz/']</td>\n",
       "      <td>fferguson</td>\n",
       "      <td>Steven Simmons</td>\n",
       "      <td>M</td>\n",
       "      <td>00448 John Stream Suite 096\\nKennethside, GA 7...</td>\n",
       "      <td>gfriedman@yahoo.com</td>\n",
       "      <td>1949-03-11</td>\n",
       "    </tr>\n",
       "    <tr>\n",
       "      <th>2</th>\n",
       "      <td>Research scientist (maths)</td>\n",
       "      <td>Dawson Inc</td>\n",
       "      <td>878-32-0473</td>\n",
       "      <td>084 David Land Suite 227\\nJonathanmouth, KY 19218</td>\n",
       "      <td>(Decimal('-4.1471635'), Decimal('96.813782'))</td>\n",
       "      <td>O-</td>\n",
       "      <td>['https://rush-stanley.biz/', 'http://www.mart...</td>\n",
       "      <td>linda98</td>\n",
       "      <td>Nicole Morales</td>\n",
       "      <td>F</td>\n",
       "      <td>91724 Ashley Loaf\\nNorth Jamesbury, CA 55841</td>\n",
       "      <td>speterson@gmail.com</td>\n",
       "      <td>1994-03-12</td>\n",
       "    </tr>\n",
       "    <tr>\n",
       "      <th>3</th>\n",
       "      <td>Press photographer</td>\n",
       "      <td>Solis and Sons</td>\n",
       "      <td>563-21-0545</td>\n",
       "      <td>34210 Christina Crossing Apt. 377\\nWilliamshav...</td>\n",
       "      <td>(Decimal('24.2534065'), Decimal('-56.383052'))</td>\n",
       "      <td>A-</td>\n",
       "      <td>['http://stewart.com/', 'https://www.wallace-s...</td>\n",
       "      <td>spencer43</td>\n",
       "      <td>Juan Cannon</td>\n",
       "      <td>M</td>\n",
       "      <td>PSC 5047, Box 7236\\nAPO AP 33712</td>\n",
       "      <td>mary03@hotmail.com</td>\n",
       "      <td>2004-04-19</td>\n",
       "    </tr>\n",
       "    <tr>\n",
       "      <th>4</th>\n",
       "      <td>Chief Financial Officer</td>\n",
       "      <td>Freeman, Moody and Gallagher</td>\n",
       "      <td>421-12-6482</td>\n",
       "      <td>5759 Smith Trace\\nKathleenville, DE 85329</td>\n",
       "      <td>(Decimal('-10.9002165'), Decimal('-101.926460'))</td>\n",
       "      <td>O+</td>\n",
       "      <td>['https://smith.org/', 'https://www.robinson.c...</td>\n",
       "      <td>anthony71</td>\n",
       "      <td>Morgan Smith</td>\n",
       "      <td>F</td>\n",
       "      <td>USS Moore\\nFPO AP 94862</td>\n",
       "      <td>ruth26@gmail.com</td>\n",
       "      <td>1955-06-24</td>\n",
       "    </tr>\n",
       "  </tbody>\n",
       "</table>\n",
       "</div>"
      ],
      "text/plain": [
       "                          job                       company          ssn  \\\n",
       "0       Management consultant                     Bates Inc  538-20-5825   \n",
       "1       Journalist, newspaper      Wolf, Perkins and Fisher  027-17-3368   \n",
       "2  Research scientist (maths)                    Dawson Inc  878-32-0473   \n",
       "3          Press photographer                Solis and Sons  563-21-0545   \n",
       "4     Chief Financial Officer  Freeman, Moody and Gallagher  421-12-6482   \n",
       "\n",
       "                                           residence  \\\n",
       "0  399 Johnson Springs Apt. 439\\nSouth Mark, WV 2...   \n",
       "1              451 Lori Ridges\\nLewismouth, KS 16771   \n",
       "2  084 David Land Suite 227\\nJonathanmouth, KY 19218   \n",
       "3  34210 Christina Crossing Apt. 377\\nWilliamshav...   \n",
       "4          5759 Smith Trace\\nKathleenville, DE 85329   \n",
       "\n",
       "                                   current_location blood_group  \\\n",
       "0   (Decimal('-48.7913485'), Decimal('104.343450'))          B-   \n",
       "1     (Decimal('5.1487915'), Decimal('172.671923'))          B+   \n",
       "2     (Decimal('-4.1471635'), Decimal('96.813782'))          O-   \n",
       "3    (Decimal('24.2534065'), Decimal('-56.383052'))          A-   \n",
       "4  (Decimal('-10.9002165'), Decimal('-101.926460'))          O+   \n",
       "\n",
       "                                             website   username  \\\n",
       "0      ['http://garcia.com/', 'http://www.kim.com/']   joshua81   \n",
       "1      ['http://price.net/', 'https://navarro.biz/']  fferguson   \n",
       "2  ['https://rush-stanley.biz/', 'http://www.mart...    linda98   \n",
       "3  ['http://stewart.com/', 'https://www.wallace-s...  spencer43   \n",
       "4  ['https://smith.org/', 'https://www.robinson.c...  anthony71   \n",
       "\n",
       "             name sex                                            address  \\\n",
       "0  Julie Marshall   F  0505 Jennifer Underpass Suite 414\\nPort Brando...   \n",
       "1  Steven Simmons   M  00448 John Stream Suite 096\\nKennethside, GA 7...   \n",
       "2  Nicole Morales   F       91724 Ashley Loaf\\nNorth Jamesbury, CA 55841   \n",
       "3     Juan Cannon   M                   PSC 5047, Box 7236\\nAPO AP 33712   \n",
       "4    Morgan Smith   F                            USS Moore\\nFPO AP 94862   \n",
       "\n",
       "                    mail   birthdate  \n",
       "0  abigail14@hotmail.com  1993-10-15  \n",
       "1    gfriedman@yahoo.com  1949-03-11  \n",
       "2    speterson@gmail.com  1994-03-12  \n",
       "3     mary03@hotmail.com  2004-04-19  \n",
       "4       ruth26@gmail.com  1955-06-24  "
      ]
     },
     "execution_count": 24,
     "metadata": {},
     "output_type": "execute_result"
    }
   ],
   "source": [
    "df_spark = pd.read_csv(\"Fakedata_Clean.csv\", index_col=0)\n",
    "df_spark.head()"
   ]
  },
  {
   "cell_type": "code",
   "execution_count": 25,
   "id": "00a12130",
   "metadata": {},
   "outputs": [
    {
     "name": "stdout",
     "output_type": "stream",
     "text": [
      "<class 'pandas.core.frame.DataFrame'>\n",
      "Int64Index: 1000 entries, 0 to 999\n",
      "Data columns (total 13 columns):\n",
      " #   Column            Non-Null Count  Dtype \n",
      "---  ------            --------------  ----- \n",
      " 0   job               1000 non-null   object\n",
      " 1   company           1000 non-null   object\n",
      " 2   ssn               1000 non-null   object\n",
      " 3   residence         1000 non-null   object\n",
      " 4   current_location  1000 non-null   object\n",
      " 5   blood_group       1000 non-null   object\n",
      " 6   website           1000 non-null   object\n",
      " 7   username          1000 non-null   object\n",
      " 8   name              1000 non-null   object\n",
      " 9   sex               1000 non-null   object\n",
      " 10  address           1000 non-null   object\n",
      " 11  mail              1000 non-null   object\n",
      " 12  birthdate         1000 non-null   object\n",
      "dtypes: object(13)\n",
      "memory usage: 109.4+ KB\n"
     ]
    }
   ],
   "source": [
    "df_spark.info()"
   ]
  },
  {
   "cell_type": "markdown",
   "id": "45eb3c98",
   "metadata": {},
   "source": [
    "## Let work on the Fake data using Pyspark\n",
    "\n",
    "Before starting PySpark, always not that you need to start a Spark Session."
   ]
  },
  {
   "cell_type": "code",
   "execution_count": 2,
   "id": "c369e7be",
   "metadata": {},
   "outputs": [],
   "source": [
    "from pyspark.sql import SparkSession"
   ]
  },
  {
   "cell_type": "code",
   "execution_count": 3,
   "id": "46894660",
   "metadata": {},
   "outputs": [],
   "source": [
    "spark = SparkSession.builder.config(\"spark.driver.host\", \"localhost\").appName('tutorial').getOrCreate()# We need to set a App Name\n"
   ]
  },
  {
   "cell_type": "code",
   "execution_count": 4,
   "id": "d1daafa5",
   "metadata": {},
   "outputs": [
    {
     "data": {
      "text/html": [
       "\n",
       "            <div>\n",
       "                <p><b>SparkSession - in-memory</b></p>\n",
       "                \n",
       "        <div>\n",
       "            <p><b>SparkContext</b></p>\n",
       "\n",
       "            <p><a href=\"http://localhost:4040\">Spark UI</a></p>\n",
       "\n",
       "            <dl>\n",
       "              <dt>Version</dt>\n",
       "                <dd><code>v3.3.1</code></dd>\n",
       "              <dt>Master</dt>\n",
       "                <dd><code>local[*]</code></dd>\n",
       "              <dt>AppName</dt>\n",
       "                <dd><code>tutorial</code></dd>\n",
       "            </dl>\n",
       "        </div>\n",
       "        \n",
       "            </div>\n",
       "        "
      ],
      "text/plain": [
       "<pyspark.sql.session.SparkSession at 0x23ec3959450>"
      ]
     },
     "execution_count": 4,
     "metadata": {},
     "output_type": "execute_result"
    }
   ],
   "source": [
    "spark #This gives you the config of your spark cluster you just created"
   ]
  },
  {
   "cell_type": "code",
   "execution_count": 15,
   "id": "eda8b0e7",
   "metadata": {},
   "outputs": [
    {
     "data": {
      "text/plain": [
       "DataFrame[key: string, value: string]"
      ]
     },
     "execution_count": 15,
     "metadata": {},
     "output_type": "execute_result"
    }
   ],
   "source": [
    "spark.sql(\"set spark.sql.legacy.timeParserPolicy=EXCEPTION\")"
   ]
  },
  {
   "cell_type": "code",
   "execution_count": 5,
   "id": "95800f08",
   "metadata": {},
   "outputs": [],
   "source": [
    "#Read CSV file using Spark\n",
    "df_spark = spark.read.csv(\"Fakedata_Clean.csv\")"
   ]
  },
  {
   "cell_type": "code",
   "execution_count": 6,
   "id": "b3ebcad3",
   "metadata": {},
   "outputs": [
    {
     "data": {
      "text/plain": [
       "DataFrame[_c0: string, _c1: string, _c2: string, _c3: string, _c4: string, _c5: string, _c6: string, _c7: string, _c8: string, _c9: string, _c10: string, _c11: string, _c12: string, _c13: string, _c14: string]"
      ]
     },
     "execution_count": 6,
     "metadata": {},
     "output_type": "execute_result"
    }
   ],
   "source": [
    "df_spark #This will give you the data_type"
   ]
  },
  {
   "cell_type": "markdown",
   "id": "c3134282",
   "metadata": {},
   "source": [
    "**Note:** PySPark is currently reading the Column number as the Header.\n",
    "We need to make the First Row as the header"
   ]
  },
  {
   "cell_type": "code",
   "execution_count": 7,
   "id": "d02406eb",
   "metadata": {},
   "outputs": [
    {
     "name": "stdout",
     "output_type": "stream",
     "text": [
      "+------------------+--------------------+--------------------+--------------------+--------------------+--------------------+----------------+-----------+--------------------+--------+----+----+-------+----+---------+\n",
      "|               _c0|                 _c1|                 _c2|                 _c3|                 _c4|                 _c5|             _c6|        _c7|                 _c8|     _c9|_c10|_c11|   _c12|_c13|     _c14|\n",
      "+------------------+--------------------+--------------------+--------------------+--------------------+--------------------+----------------+-----------+--------------------+--------+----+----+-------+----+---------+\n",
      "|              null|                 job|                 Age|             company|                 ssn|           residence|current_location|blood_group|             website|username|name| sex|address|mail|birthdate|\n",
      "|                 0|Management consul...|                  85|           Bates Inc|         538-20-5825|399 Johnson Sprin...|            null|       null|                null|    null|null|null|   null|null|     null|\n",
      "|        South Mark|           WV 29008\"|(Decimal('-48.791...|                  B-|['http://garcia.c...|            joshua81|  Julie Marshall|          F|0505 Jennifer Und...|    null|null|null|   null|null|     null|\n",
      "|      Port Brandon|           IA 48052\"|abigail14@hotmail...|          15/10/1993|                null|                null|            null|       null|                null|    null|null|null|   null|null|     null|\n",
      "|                 1|Journalist, newsp...|                  91|Wolf, Perkins and...|         027-17-3368|     451 Lori Ridges|            null|       null|                null|    null|null|null|   null|null|     null|\n",
      "|        Lewismouth|           KS 16771\"|(Decimal('5.14879...|                  B+|['http://price.ne...|           fferguson|  Steven Simmons|          M|00448 John Stream...|    null|null|null|   null|null|     null|\n",
      "|       Kennethside|           GA 79926\"| gfriedman@yahoo.com|          11/03/1949|                null|                null|            null|       null|                null|    null|null|null|   null|null|     null|\n",
      "|                 2|Research scientis...|                  37|          Dawson Inc|         878-32-0473|084 David Land Su...|            null|       null|                null|    null|null|null|   null|null|     null|\n",
      "|     Jonathanmouth|           KY 19218\"|(Decimal('-4.1471...|                  O-|['https://rush-st...|             linda98|  Nicole Morales|          F|   91724 Ashley Loaf|    null|null|null|   null|null|     null|\n",
      "|   North Jamesbury|           CA 55841\"| speterson@gmail.com|          12/03/1994|                null|                null|            null|       null|                null|    null|null|null|   null|null|     null|\n",
      "|                 3|  Press photographer|                  76|      Solis and Sons|         563-21-0545|34210 Christina C...|            null|       null|                null|    null|null|null|   null|null|     null|\n",
      "|     Williamshaven|           NE 73005\"|(Decimal('24.2534...|                  A-|['http://stewart....|           spencer43|     Juan Cannon|          M|  PSC 5047, Box 7236|    null|null|null|   null|null|     null|\n",
      "|     APO AP 33712\"|  mary03@hotmail.com|          19/04/2004|                null|                null|                null|            null|       null|                null|    null|null|null|   null|null|     null|\n",
      "|                 4|Chief Financial O...|                  65|Freeman, Moody an...|         421-12-6482|    5759 Smith Trace|            null|       null|                null|    null|null|null|   null|null|     null|\n",
      "|     Kathleenville|           DE 85329\"|(Decimal('-10.900...|                  O+|['https://smith.o...|           anthony71|    Morgan Smith|          F|           USS Moore|    null|null|null|   null|null|     null|\n",
      "|     FPO AP 94862\"|    ruth26@gmail.com|          24/06/1955|                null|                null|                null|            null|       null|                null|    null|null|null|   null|null|     null|\n",
      "|                 5|        Video editor|                  83|        Jones-Fowler|         794-29-0277|4383 King Manor S...|            null|       null|                null|    null|null|null|   null|null|     null|\n",
      "|North Allisonmouth|           UT 64507\"|(Decimal('-64.069...|                  O-|['https://www.bal...|         velezdenise| Nicholas Stokes|          M|  2879 Williams Port|    null|null|null|   null|null|     null|\n",
      "|         Davidberg|           AL 24747\"|andersonkevin@yah...|          08/10/2002|                null|                null|            null|       null|                null|    null|null|null|   null|null|     null|\n",
      "|                 6|Occupational psyc...|                  85|Franklin, Mckay a...|         807-07-7725|     2742 Rick Curve|            null|       null|                null|    null|null|null|   null|null|     null|\n",
      "+------------------+--------------------+--------------------+--------------------+--------------------+--------------------+----------------+-----------+--------------------+--------+----+----+-------+----+---------+\n",
      "only showing top 20 rows\n",
      "\n"
     ]
    }
   ],
   "source": [
    "df_spark.show() #To show all the data"
   ]
  },
  {
   "cell_type": "code",
   "execution_count": 8,
   "id": "c3c2b13b",
   "metadata": {},
   "outputs": [],
   "source": [
    "df_spark= spark.read.option(\"header\",\"true\").csv(\"Fakedata_Clean.csv\")# We will make first row as an header"
   ]
  },
  {
   "cell_type": "code",
   "execution_count": 9,
   "id": "a90d4bc4",
   "metadata": {},
   "outputs": [
    {
     "name": "stdout",
     "output_type": "stream",
     "text": [
      "+------------------+--------------------+--------------------+--------------------+--------------------+--------------------+----------------+-----------+--------------------+--------+----+----+-------+----+---------+\n",
      "|               _c0|                 job|                 Age|             company|                 ssn|           residence|current_location|blood_group|             website|username|name| sex|address|mail|birthdate|\n",
      "+------------------+--------------------+--------------------+--------------------+--------------------+--------------------+----------------+-----------+--------------------+--------+----+----+-------+----+---------+\n",
      "|                 0|Management consul...|                  85|           Bates Inc|         538-20-5825|399 Johnson Sprin...|            null|       null|                null|    null|null|null|   null|null|     null|\n",
      "|        South Mark|           WV 29008\"|(Decimal('-48.791...|                  B-|['http://garcia.c...|            joshua81|  Julie Marshall|          F|0505 Jennifer Und...|    null|null|null|   null|null|     null|\n",
      "|      Port Brandon|           IA 48052\"|abigail14@hotmail...|          15/10/1993|                null|                null|            null|       null|                null|    null|null|null|   null|null|     null|\n",
      "|                 1|Journalist, newsp...|                  91|Wolf, Perkins and...|         027-17-3368|     451 Lori Ridges|            null|       null|                null|    null|null|null|   null|null|     null|\n",
      "|        Lewismouth|           KS 16771\"|(Decimal('5.14879...|                  B+|['http://price.ne...|           fferguson|  Steven Simmons|          M|00448 John Stream...|    null|null|null|   null|null|     null|\n",
      "|       Kennethside|           GA 79926\"| gfriedman@yahoo.com|          11/03/1949|                null|                null|            null|       null|                null|    null|null|null|   null|null|     null|\n",
      "|                 2|Research scientis...|                  37|          Dawson Inc|         878-32-0473|084 David Land Su...|            null|       null|                null|    null|null|null|   null|null|     null|\n",
      "|     Jonathanmouth|           KY 19218\"|(Decimal('-4.1471...|                  O-|['https://rush-st...|             linda98|  Nicole Morales|          F|   91724 Ashley Loaf|    null|null|null|   null|null|     null|\n",
      "|   North Jamesbury|           CA 55841\"| speterson@gmail.com|          12/03/1994|                null|                null|            null|       null|                null|    null|null|null|   null|null|     null|\n",
      "|                 3|  Press photographer|                  76|      Solis and Sons|         563-21-0545|34210 Christina C...|            null|       null|                null|    null|null|null|   null|null|     null|\n",
      "|     Williamshaven|           NE 73005\"|(Decimal('24.2534...|                  A-|['http://stewart....|           spencer43|     Juan Cannon|          M|  PSC 5047, Box 7236|    null|null|null|   null|null|     null|\n",
      "|     APO AP 33712\"|  mary03@hotmail.com|          19/04/2004|                null|                null|                null|            null|       null|                null|    null|null|null|   null|null|     null|\n",
      "|                 4|Chief Financial O...|                  65|Freeman, Moody an...|         421-12-6482|    5759 Smith Trace|            null|       null|                null|    null|null|null|   null|null|     null|\n",
      "|     Kathleenville|           DE 85329\"|(Decimal('-10.900...|                  O+|['https://smith.o...|           anthony71|    Morgan Smith|          F|           USS Moore|    null|null|null|   null|null|     null|\n",
      "|     FPO AP 94862\"|    ruth26@gmail.com|          24/06/1955|                null|                null|                null|            null|       null|                null|    null|null|null|   null|null|     null|\n",
      "|                 5|        Video editor|                  83|        Jones-Fowler|         794-29-0277|4383 King Manor S...|            null|       null|                null|    null|null|null|   null|null|     null|\n",
      "|North Allisonmouth|           UT 64507\"|(Decimal('-64.069...|                  O-|['https://www.bal...|         velezdenise| Nicholas Stokes|          M|  2879 Williams Port|    null|null|null|   null|null|     null|\n",
      "|         Davidberg|           AL 24747\"|andersonkevin@yah...|          08/10/2002|                null|                null|            null|       null|                null|    null|null|null|   null|null|     null|\n",
      "|                 6|Occupational psyc...|                  85|Franklin, Mckay a...|         807-07-7725|     2742 Rick Curve|            null|       null|                null|    null|null|null|   null|null|     null|\n",
      "|       West Cheryl|           KS 82400\"|(Decimal('42.9548...|                  O-|['http://campbell...|             tracy04|    Adam Sanders|          M|    9219 Jamie Views|    null|null|null|   null|null|     null|\n",
      "+------------------+--------------------+--------------------+--------------------+--------------------+--------------------+----------------+-----------+--------------------+--------+----+----+-------+----+---------+\n",
      "only showing top 20 rows\n",
      "\n"
     ]
    }
   ],
   "source": [
    "df_spark.show()"
   ]
  },
  {
   "cell_type": "code",
   "execution_count": 10,
   "id": "783a41e7",
   "metadata": {},
   "outputs": [
    {
     "data": {
      "text/plain": [
       "pyspark.sql.dataframe.DataFrame"
      ]
     },
     "execution_count": 10,
     "metadata": {},
     "output_type": "execute_result"
    }
   ],
   "source": [
    "type(df_spark) # This gives you the type of dataframe"
   ]
  },
  {
   "cell_type": "code",
   "execution_count": 11,
   "id": "ca45275b",
   "metadata": {},
   "outputs": [
    {
     "data": {
      "text/plain": [
       "[Row(_c0='0', job='Management consultant', Age='85', company='Bates Inc', ssn='538-20-5825', residence='399 Johnson Springs Apt. 439', current_location=None, blood_group=None, website=None, username=None, name=None, sex=None, address=None, mail=None, birthdate=None),\n",
       " Row(_c0='South Mark', job=' WV 29008\"', Age=\"(Decimal('-48.7913485'), Decimal('104.343450'))\", company='B-', ssn=\"['http://garcia.com/', 'http://www.kim.com/']\", residence='joshua81', current_location='Julie Marshall', blood_group='F', website='0505 Jennifer Underpass Suite 414', username=None, name=None, sex=None, address=None, mail=None, birthdate=None),\n",
       " Row(_c0='Port Brandon', job=' IA 48052\"', Age='abigail14@hotmail.com', company='15/10/1993', ssn=None, residence=None, current_location=None, blood_group=None, website=None, username=None, name=None, sex=None, address=None, mail=None, birthdate=None)]"
      ]
     },
     "execution_count": 11,
     "metadata": {},
     "output_type": "execute_result"
    }
   ],
   "source": [
    "df_spark.head(3) # See the first 3 rows of the data."
   ]
  },
  {
   "cell_type": "code",
   "execution_count": 12,
   "id": "05107ca6",
   "metadata": {},
   "outputs": [
    {
     "name": "stdout",
     "output_type": "stream",
     "text": [
      "root\n",
      " |-- _c0: string (nullable = true)\n",
      " |-- job: string (nullable = true)\n",
      " |-- Age: string (nullable = true)\n",
      " |-- company: string (nullable = true)\n",
      " |-- ssn: string (nullable = true)\n",
      " |-- residence: string (nullable = true)\n",
      " |-- current_location: string (nullable = true)\n",
      " |-- blood_group: string (nullable = true)\n",
      " |-- website: string (nullable = true)\n",
      " |-- username: string (nullable = true)\n",
      " |-- name: string (nullable = true)\n",
      " |-- sex: string (nullable = true)\n",
      " |-- address: string (nullable = true)\n",
      " |-- mail: string (nullable = true)\n",
      " |-- birthdate: string (nullable = true)\n",
      "\n"
     ]
    }
   ],
   "source": [
    "df_spark.printSchema() # This works like the \"df_spark.info() in pandas\"\n",
    "#It gives you the data type of each individual rows"
   ]
  },
  {
   "cell_type": "markdown",
   "id": "d45de376",
   "metadata": {},
   "source": [
    "# Session 2\n",
    "- PySpark DataFrame\n",
    "- Reading the Dataset\n",
    "- Checking the Datatypes of the Columns(Schema)\n",
    "- Selecting Columns and Indexing\n",
    "- Check Describe options similar to Pandas\n",
    "- Adding Columns\n",
    "- Dropping Columns"
   ]
  },
  {
   "cell_type": "code",
   "execution_count": 1,
   "id": "948977d5",
   "metadata": {},
   "outputs": [],
   "source": [
    "import pyspark\n",
    "import pandas as pd"
   ]
  },
  {
   "cell_type": "code",
   "execution_count": 2,
   "id": "5467e11d",
   "metadata": {},
   "outputs": [],
   "source": [
    "from pyspark.sql import SparkSession"
   ]
  },
  {
   "cell_type": "code",
   "execution_count": 3,
   "id": "e42fc327",
   "metadata": {},
   "outputs": [],
   "source": [
    "spark = SparkSession.builder.config(\"spark.driver.host\", \"localhost\").appName('tutorial').getOrCreate()# We need to set a App Name"
   ]
  },
  {
   "cell_type": "code",
   "execution_count": 4,
   "id": "52fd9d0e",
   "metadata": {},
   "outputs": [
    {
     "data": {
      "text/html": [
       "\n",
       "            <div>\n",
       "                <p><b>SparkSession - in-memory</b></p>\n",
       "                \n",
       "        <div>\n",
       "            <p><b>SparkContext</b></p>\n",
       "\n",
       "            <p><a href=\"http://localhost:4040\">Spark UI</a></p>\n",
       "\n",
       "            <dl>\n",
       "              <dt>Version</dt>\n",
       "                <dd><code>v3.3.1</code></dd>\n",
       "              <dt>Master</dt>\n",
       "                <dd><code>local[*]</code></dd>\n",
       "              <dt>AppName</dt>\n",
       "                <dd><code>tutorial</code></dd>\n",
       "            </dl>\n",
       "        </div>\n",
       "        \n",
       "            </div>\n",
       "        "
      ],
      "text/plain": [
       "<pyspark.sql.session.SparkSession at 0x21d439a1000>"
      ]
     },
     "execution_count": 4,
     "metadata": {},
     "output_type": "execute_result"
    }
   ],
   "source": [
    "spark #This gives you the config of your spark cluster you just created"
   ]
  },
  {
   "cell_type": "code",
   "execution_count": 7,
   "id": "99cba3b1",
   "metadata": {},
   "outputs": [],
   "source": [
    "df_pyspark = spark.read.csv(\"Fakedata_Clean.csv\", header=True, inferSchema=True)"
   ]
  },
  {
   "cell_type": "code",
   "execution_count": 8,
   "id": "5671d4af",
   "metadata": {},
   "outputs": [
    {
     "name": "stdout",
     "output_type": "stream",
     "text": [
      "root\n",
      " |-- _c0: string (nullable = true)\n",
      " |-- job: string (nullable = true)\n",
      " |-- Age: string (nullable = true)\n",
      " |-- company: string (nullable = true)\n",
      " |-- ssn: string (nullable = true)\n",
      " |-- residence: string (nullable = true)\n",
      " |-- current_location: string (nullable = true)\n",
      " |-- blood_group: string (nullable = true)\n",
      " |-- website: string (nullable = true)\n",
      " |-- username: string (nullable = true)\n",
      " |-- name: string (nullable = true)\n",
      " |-- sex: string (nullable = true)\n",
      " |-- address: string (nullable = true)\n",
      " |-- mail: string (nullable = true)\n",
      " |-- birthdate: string (nullable = true)\n",
      "\n"
     ]
    }
   ],
   "source": [
    "df_pyspark.printSchema()"
   ]
  },
  {
   "cell_type": "markdown",
   "id": "8863abac",
   "metadata": {},
   "source": [
    "You will notice it read the entire data is a \"string\" datatype.\n",
    "We need to put the appropriate datatype"
   ]
  },
  {
   "cell_type": "markdown",
   "id": "32eab970",
   "metadata": {},
   "source": [
    "# Covert Birthdate to date datatype and Age to Integer."
   ]
  },
  {
   "cell_type": "code",
   "execution_count": 7,
   "id": "508425ad",
   "metadata": {},
   "outputs": [],
   "source": [
    "from pyspark.sql.functions import to_date, col\n",
    "df_pyspark = df_pyspark.withColumn(\"birthdate\", to_date(\"birthdate\",\"dd-MM-yyy\"))"
   ]
  },
  {
   "cell_type": "code",
   "execution_count": 8,
   "id": "4aa08b3c",
   "metadata": {},
   "outputs": [],
   "source": [
    "from pyspark.sql.types import IntegerType\n",
    "df_pyspark = df_pyspark.withColumn(\"Age\", df_pyspark[\"Age\"].cast(IntegerType()))"
   ]
  },
  {
   "cell_type": "code",
   "execution_count": 9,
   "id": "d23239f3",
   "metadata": {},
   "outputs": [
    {
     "name": "stdout",
     "output_type": "stream",
     "text": [
      "root\n",
      " |-- _c0: string (nullable = true)\n",
      " |-- job: string (nullable = true)\n",
      " |-- Age: integer (nullable = true)\n",
      " |-- company: string (nullable = true)\n",
      " |-- ssn: string (nullable = true)\n",
      " |-- residence: string (nullable = true)\n",
      " |-- current_location: string (nullable = true)\n",
      " |-- blood_group: string (nullable = true)\n",
      " |-- website: string (nullable = true)\n",
      " |-- username: string (nullable = true)\n",
      " |-- name: string (nullable = true)\n",
      " |-- sex: string (nullable = true)\n",
      " |-- address: string (nullable = true)\n",
      " |-- mail: string (nullable = true)\n",
      " |-- birthdate: date (nullable = true)\n",
      "\n"
     ]
    }
   ],
   "source": [
    "df_pyspark.printSchema()"
   ]
  },
  {
   "cell_type": "code",
   "execution_count": 10,
   "id": "ee9c3e63",
   "metadata": {},
   "outputs": [
    {
     "name": "stdout",
     "output_type": "stream",
     "text": [
      "+------------------+--------------------+----+--------------------+--------------------+--------------------+----------------+-----------+--------------------+--------+----+----+-------+----+---------+\n",
      "|               _c0|                 job| Age|             company|                 ssn|           residence|current_location|blood_group|             website|username|name| sex|address|mail|birthdate|\n",
      "+------------------+--------------------+----+--------------------+--------------------+--------------------+----------------+-----------+--------------------+--------+----+----+-------+----+---------+\n",
      "|                 0|Management consul...|  85|           Bates Inc|         538-20-5825|399 Johnson Sprin...|            null|       null|                null|    null|null|null|   null|null|     null|\n",
      "|        South Mark|           WV 29008\"|null|                  B-|['http://garcia.c...|            joshua81|  Julie Marshall|          F|0505 Jennifer Und...|    null|null|null|   null|null|     null|\n",
      "|      Port Brandon|           IA 48052\"|null|          15/10/1993|                null|                null|            null|       null|                null|    null|null|null|   null|null|     null|\n",
      "|                 1|Journalist, newsp...|  91|Wolf, Perkins and...|         027-17-3368|     451 Lori Ridges|            null|       null|                null|    null|null|null|   null|null|     null|\n",
      "|        Lewismouth|           KS 16771\"|null|                  B+|['http://price.ne...|           fferguson|  Steven Simmons|          M|00448 John Stream...|    null|null|null|   null|null|     null|\n",
      "|       Kennethside|           GA 79926\"|null|          11/03/1949|                null|                null|            null|       null|                null|    null|null|null|   null|null|     null|\n",
      "|                 2|Research scientis...|  37|          Dawson Inc|         878-32-0473|084 David Land Su...|            null|       null|                null|    null|null|null|   null|null|     null|\n",
      "|     Jonathanmouth|           KY 19218\"|null|                  O-|['https://rush-st...|             linda98|  Nicole Morales|          F|   91724 Ashley Loaf|    null|null|null|   null|null|     null|\n",
      "|   North Jamesbury|           CA 55841\"|null|          12/03/1994|                null|                null|            null|       null|                null|    null|null|null|   null|null|     null|\n",
      "|                 3|  Press photographer|  76|      Solis and Sons|         563-21-0545|34210 Christina C...|            null|       null|                null|    null|null|null|   null|null|     null|\n",
      "|     Williamshaven|           NE 73005\"|null|                  A-|['http://stewart....|           spencer43|     Juan Cannon|          M|  PSC 5047, Box 7236|    null|null|null|   null|null|     null|\n",
      "|     APO AP 33712\"|  mary03@hotmail.com|null|                null|                null|                null|            null|       null|                null|    null|null|null|   null|null|     null|\n",
      "|                 4|Chief Financial O...|  65|Freeman, Moody an...|         421-12-6482|    5759 Smith Trace|            null|       null|                null|    null|null|null|   null|null|     null|\n",
      "|     Kathleenville|           DE 85329\"|null|                  O+|['https://smith.o...|           anthony71|    Morgan Smith|          F|           USS Moore|    null|null|null|   null|null|     null|\n",
      "|     FPO AP 94862\"|    ruth26@gmail.com|null|                null|                null|                null|            null|       null|                null|    null|null|null|   null|null|     null|\n",
      "|                 5|        Video editor|  83|        Jones-Fowler|         794-29-0277|4383 King Manor S...|            null|       null|                null|    null|null|null|   null|null|     null|\n",
      "|North Allisonmouth|           UT 64507\"|null|                  O-|['https://www.bal...|         velezdenise| Nicholas Stokes|          M|  2879 Williams Port|    null|null|null|   null|null|     null|\n",
      "|         Davidberg|           AL 24747\"|null|          08/10/2002|                null|                null|            null|       null|                null|    null|null|null|   null|null|     null|\n",
      "|                 6|Occupational psyc...|  85|Franklin, Mckay a...|         807-07-7725|     2742 Rick Curve|            null|       null|                null|    null|null|null|   null|null|     null|\n",
      "|       West Cheryl|           KS 82400\"|null|                  O-|['http://campbell...|             tracy04|    Adam Sanders|          M|    9219 Jamie Views|    null|null|null|   null|null|     null|\n",
      "+------------------+--------------------+----+--------------------+--------------------+--------------------+----------------+-----------+--------------------+--------+----+----+-------+----+---------+\n",
      "only showing top 20 rows\n",
      "\n"
     ]
    }
   ],
   "source": [
    "df_pyspark.show()"
   ]
  },
  {
   "cell_type": "code",
   "execution_count": 11,
   "id": "9ecbf759",
   "metadata": {},
   "outputs": [
    {
     "data": {
      "text/plain": [
       "['_c0',\n",
       " 'job',\n",
       " 'Age',\n",
       " 'company',\n",
       " 'ssn',\n",
       " 'residence',\n",
       " 'current_location',\n",
       " 'blood_group',\n",
       " 'website',\n",
       " 'username',\n",
       " 'name',\n",
       " 'sex',\n",
       " 'address',\n",
       " 'mail',\n",
       " 'birthdate']"
      ]
     },
     "execution_count": 11,
     "metadata": {},
     "output_type": "execute_result"
    }
   ],
   "source": [
    "df_pyspark.columns"
   ]
  },
  {
   "cell_type": "code",
   "execution_count": 12,
   "id": "783c66f6",
   "metadata": {},
   "outputs": [
    {
     "name": "stdout",
     "output_type": "stream",
     "text": [
      "+--------------------+\n",
      "|                 job|\n",
      "+--------------------+\n",
      "|Management consul...|\n",
      "|           WV 29008\"|\n",
      "|           IA 48052\"|\n",
      "|Journalist, newsp...|\n",
      "|           KS 16771\"|\n",
      "|           GA 79926\"|\n",
      "|Research scientis...|\n",
      "|           KY 19218\"|\n",
      "|           CA 55841\"|\n",
      "|  Press photographer|\n",
      "|           NE 73005\"|\n",
      "|  mary03@hotmail.com|\n",
      "|Chief Financial O...|\n",
      "|           DE 85329\"|\n",
      "|    ruth26@gmail.com|\n",
      "|        Video editor|\n",
      "|           UT 64507\"|\n",
      "|           AL 24747\"|\n",
      "|Occupational psyc...|\n",
      "|           KS 82400\"|\n",
      "+--------------------+\n",
      "only showing top 20 rows\n",
      "\n"
     ]
    }
   ],
   "source": [
    "#To see a particular column\n",
    "df_pyspark.select(\"job\").show()"
   ]
  },
  {
   "cell_type": "code",
   "execution_count": 13,
   "id": "1dcf948a",
   "metadata": {},
   "outputs": [
    {
     "name": "stdout",
     "output_type": "stream",
     "text": [
      "+--------------------+--------------------+\n",
      "|                 job|             company|\n",
      "+--------------------+--------------------+\n",
      "|Management consul...|           Bates Inc|\n",
      "|           WV 29008\"|                  B-|\n",
      "|           IA 48052\"|          15/10/1993|\n",
      "|Journalist, newsp...|Wolf, Perkins and...|\n",
      "|           KS 16771\"|                  B+|\n",
      "|           GA 79926\"|          11/03/1949|\n",
      "|Research scientis...|          Dawson Inc|\n",
      "|           KY 19218\"|                  O-|\n",
      "|           CA 55841\"|          12/03/1994|\n",
      "|  Press photographer|      Solis and Sons|\n",
      "|           NE 73005\"|                  A-|\n",
      "|  mary03@hotmail.com|                null|\n",
      "|Chief Financial O...|Freeman, Moody an...|\n",
      "|           DE 85329\"|                  O+|\n",
      "|    ruth26@gmail.com|                null|\n",
      "|        Video editor|        Jones-Fowler|\n",
      "|           UT 64507\"|                  O-|\n",
      "|           AL 24747\"|          08/10/2002|\n",
      "|Occupational psyc...|Franklin, Mckay a...|\n",
      "|           KS 82400\"|                  O-|\n",
      "+--------------------+--------------------+\n",
      "only showing top 20 rows\n",
      "\n"
     ]
    }
   ],
   "source": [
    "df_pyspark.select([\"job\",\"company\"]).show() #To show two or more columns"
   ]
  },
  {
   "cell_type": "code",
   "execution_count": 14,
   "id": "468cacfc",
   "metadata": {},
   "outputs": [
    {
     "data": {
      "text/plain": [
       "[('_c0', 'string'),\n",
       " ('job', 'string'),\n",
       " ('Age', 'int'),\n",
       " ('company', 'string'),\n",
       " ('ssn', 'string'),\n",
       " ('residence', 'string'),\n",
       " ('current_location', 'string'),\n",
       " ('blood_group', 'string'),\n",
       " ('website', 'string'),\n",
       " ('username', 'string'),\n",
       " ('name', 'string'),\n",
       " ('sex', 'string'),\n",
       " ('address', 'string'),\n",
       " ('mail', 'string'),\n",
       " ('birthdate', 'date')]"
      ]
     },
     "execution_count": 14,
     "metadata": {},
     "output_type": "execute_result"
    }
   ],
   "source": [
    "df_pyspark.dtypes"
   ]
  },
  {
   "cell_type": "markdown",
   "id": "369339a6",
   "metadata": {},
   "source": [
    "## Let Drop unwanted Columns"
   ]
  },
  {
   "cell_type": "code",
   "execution_count": 15,
   "id": "322b01ac",
   "metadata": {},
   "outputs": [],
   "source": [
    "# Drop the column\n",
    "df_pyspark = df_pyspark.drop(\"_c0\")"
   ]
  },
  {
   "cell_type": "code",
   "execution_count": 16,
   "id": "83d409f1",
   "metadata": {},
   "outputs": [
    {
     "data": {
      "text/plain": [
       "['job',\n",
       " 'Age',\n",
       " 'company',\n",
       " 'ssn',\n",
       " 'residence',\n",
       " 'current_location',\n",
       " 'blood_group',\n",
       " 'website',\n",
       " 'username',\n",
       " 'name',\n",
       " 'sex',\n",
       " 'address',\n",
       " 'mail',\n",
       " 'birthdate']"
      ]
     },
     "execution_count": 16,
     "metadata": {},
     "output_type": "execute_result"
    }
   ],
   "source": [
    "df_pyspark.columns"
   ]
  },
  {
   "cell_type": "code",
   "execution_count": 17,
   "id": "de244632",
   "metadata": {},
   "outputs": [
    {
     "name": "stdout",
     "output_type": "stream",
     "text": [
      "+--------------------+----+--------------------+--------------------+--------------------+----------------+-----------+--------------------+--------+----+----+-------+----+---------+\n",
      "|                 job| Age|             company|                 ssn|           residence|current_location|blood_group|             website|username|name| sex|address|mail|birthdate|\n",
      "+--------------------+----+--------------------+--------------------+--------------------+----------------+-----------+--------------------+--------+----+----+-------+----+---------+\n",
      "|Management consul...|  85|           Bates Inc|         538-20-5825|399 Johnson Sprin...|            null|       null|                null|    null|null|null|   null|null|     null|\n",
      "|           WV 29008\"|null|                  B-|['http://garcia.c...|            joshua81|  Julie Marshall|          F|0505 Jennifer Und...|    null|null|null|   null|null|     null|\n",
      "|           IA 48052\"|null|          15/10/1993|                null|                null|            null|       null|                null|    null|null|null|   null|null|     null|\n",
      "|Journalist, newsp...|  91|Wolf, Perkins and...|         027-17-3368|     451 Lori Ridges|            null|       null|                null|    null|null|null|   null|null|     null|\n",
      "|           KS 16771\"|null|                  B+|['http://price.ne...|           fferguson|  Steven Simmons|          M|00448 John Stream...|    null|null|null|   null|null|     null|\n",
      "|           GA 79926\"|null|          11/03/1949|                null|                null|            null|       null|                null|    null|null|null|   null|null|     null|\n",
      "|Research scientis...|  37|          Dawson Inc|         878-32-0473|084 David Land Su...|            null|       null|                null|    null|null|null|   null|null|     null|\n",
      "|           KY 19218\"|null|                  O-|['https://rush-st...|             linda98|  Nicole Morales|          F|   91724 Ashley Loaf|    null|null|null|   null|null|     null|\n",
      "|           CA 55841\"|null|          12/03/1994|                null|                null|            null|       null|                null|    null|null|null|   null|null|     null|\n",
      "|  Press photographer|  76|      Solis and Sons|         563-21-0545|34210 Christina C...|            null|       null|                null|    null|null|null|   null|null|     null|\n",
      "|           NE 73005\"|null|                  A-|['http://stewart....|           spencer43|     Juan Cannon|          M|  PSC 5047, Box 7236|    null|null|null|   null|null|     null|\n",
      "|  mary03@hotmail.com|null|                null|                null|                null|            null|       null|                null|    null|null|null|   null|null|     null|\n",
      "|Chief Financial O...|  65|Freeman, Moody an...|         421-12-6482|    5759 Smith Trace|            null|       null|                null|    null|null|null|   null|null|     null|\n",
      "|           DE 85329\"|null|                  O+|['https://smith.o...|           anthony71|    Morgan Smith|          F|           USS Moore|    null|null|null|   null|null|     null|\n",
      "|    ruth26@gmail.com|null|                null|                null|                null|            null|       null|                null|    null|null|null|   null|null|     null|\n",
      "|        Video editor|  83|        Jones-Fowler|         794-29-0277|4383 King Manor S...|            null|       null|                null|    null|null|null|   null|null|     null|\n",
      "|           UT 64507\"|null|                  O-|['https://www.bal...|         velezdenise| Nicholas Stokes|          M|  2879 Williams Port|    null|null|null|   null|null|     null|\n",
      "|           AL 24747\"|null|          08/10/2002|                null|                null|            null|       null|                null|    null|null|null|   null|null|     null|\n",
      "|Occupational psyc...|  85|Franklin, Mckay a...|         807-07-7725|     2742 Rick Curve|            null|       null|                null|    null|null|null|   null|null|     null|\n",
      "|           KS 82400\"|null|                  O-|['http://campbell...|             tracy04|    Adam Sanders|          M|    9219 Jamie Views|    null|null|null|   null|null|     null|\n",
      "+--------------------+----+--------------------+--------------------+--------------------+----------------+-----------+--------------------+--------+----+----+-------+----+---------+\n",
      "only showing top 20 rows\n",
      "\n"
     ]
    }
   ],
   "source": [
    "df_pyspark.show()"
   ]
  },
  {
   "cell_type": "code",
   "execution_count": 18,
   "id": "c90f0973",
   "metadata": {},
   "outputs": [
    {
     "name": "stdout",
     "output_type": "stream",
     "text": [
      "+-------+--------------------+------------------+--------------------+-----------+----------------+-----------------+--------------------+--------------------+--------+----+----+-------+----+\n",
      "|summary|                 job|               Age|             company|        ssn|       residence| current_location|         blood_group|             website|username|name| sex|address|mail|\n",
      "+-------+--------------------+------------------+--------------------+-----------+----------------+-----------------+--------------------+--------------------+--------+----+----+-------+----+\n",
      "|  count|                3000|              1000|                2894|       2000|            2000|             1000|                1000|                 900|       0|   0|   0|      0|   0|\n",
      "|   mean|                null|            62.499|                null|       null|            null|             null|                null|                null|    null|null|null|   null|null|\n",
      "| stddev|                null|21.598854356412264|                null|       null|            null|             null|                null|                null|    null|null|null|   null|null|\n",
      "|    min|           AK 08218\"|                25|          01/01/1932|001-30-3365|000 Thomas Fords|     Aaron Bailey|00009 Ebony Cross...|000 Madeline Miss...|    null|null|null|   null|null|\n",
      "|    max|zsimmons@hotmail.com|               100|['https://www.wil...|  zreynolds|         zwright|Zachary Contreras|  Unit 6437 Box 5192|  Unit 9719 Box 4784|    null|null|null|   null|null|\n",
      "+-------+--------------------+------------------+--------------------+-----------+----------------+-----------------+--------------------+--------------------+--------+----+----+-------+----+\n",
      "\n"
     ]
    }
   ],
   "source": [
    "df_pyspark.describe().show()"
   ]
  },
  {
   "cell_type": "markdown",
   "id": "405aa5a5",
   "metadata": {},
   "source": [
    "## Adding New Columns in PySpark"
   ]
  },
  {
   "cell_type": "code",
   "execution_count": 19,
   "id": "8b69d81f",
   "metadata": {},
   "outputs": [],
   "source": [
    "#Let say individual age after 5 years\n",
    "df_pyspark= df_pyspark.withColumn(\"Next 5 years\",df_pyspark[\"Age\"]+5)"
   ]
  },
  {
   "cell_type": "code",
   "execution_count": 20,
   "id": "189832f5",
   "metadata": {},
   "outputs": [
    {
     "data": {
      "text/plain": [
       "['job',\n",
       " 'Age',\n",
       " 'company',\n",
       " 'ssn',\n",
       " 'residence',\n",
       " 'current_location',\n",
       " 'blood_group',\n",
       " 'website',\n",
       " 'username',\n",
       " 'name',\n",
       " 'sex',\n",
       " 'address',\n",
       " 'mail',\n",
       " 'birthdate',\n",
       " 'Next 5 years']"
      ]
     },
     "execution_count": 20,
     "metadata": {},
     "output_type": "execute_result"
    }
   ],
   "source": [
    "df_pyspark.columns"
   ]
  },
  {
   "cell_type": "code",
   "execution_count": 21,
   "id": "ddb9e7f9",
   "metadata": {},
   "outputs": [
    {
     "name": "stdout",
     "output_type": "stream",
     "text": [
      "+--------------------+----+--------------------+--------------------+--------------------+----------------+-----------+--------------------+--------+----+----+-------+----+---------+------------+\n",
      "|                 job| Age|             company|                 ssn|           residence|current_location|blood_group|             website|username|name| sex|address|mail|birthdate|Next 5 years|\n",
      "+--------------------+----+--------------------+--------------------+--------------------+----------------+-----------+--------------------+--------+----+----+-------+----+---------+------------+\n",
      "|Management consul...|  85|           Bates Inc|         538-20-5825|399 Johnson Sprin...|            null|       null|                null|    null|null|null|   null|null|     null|          90|\n",
      "|           WV 29008\"|null|                  B-|['http://garcia.c...|            joshua81|  Julie Marshall|          F|0505 Jennifer Und...|    null|null|null|   null|null|     null|        null|\n",
      "|           IA 48052\"|null|          15/10/1993|                null|                null|            null|       null|                null|    null|null|null|   null|null|     null|        null|\n",
      "|Journalist, newsp...|  91|Wolf, Perkins and...|         027-17-3368|     451 Lori Ridges|            null|       null|                null|    null|null|null|   null|null|     null|          96|\n",
      "|           KS 16771\"|null|                  B+|['http://price.ne...|           fferguson|  Steven Simmons|          M|00448 John Stream...|    null|null|null|   null|null|     null|        null|\n",
      "|           GA 79926\"|null|          11/03/1949|                null|                null|            null|       null|                null|    null|null|null|   null|null|     null|        null|\n",
      "|Research scientis...|  37|          Dawson Inc|         878-32-0473|084 David Land Su...|            null|       null|                null|    null|null|null|   null|null|     null|          42|\n",
      "|           KY 19218\"|null|                  O-|['https://rush-st...|             linda98|  Nicole Morales|          F|   91724 Ashley Loaf|    null|null|null|   null|null|     null|        null|\n",
      "|           CA 55841\"|null|          12/03/1994|                null|                null|            null|       null|                null|    null|null|null|   null|null|     null|        null|\n",
      "|  Press photographer|  76|      Solis and Sons|         563-21-0545|34210 Christina C...|            null|       null|                null|    null|null|null|   null|null|     null|          81|\n",
      "|           NE 73005\"|null|                  A-|['http://stewart....|           spencer43|     Juan Cannon|          M|  PSC 5047, Box 7236|    null|null|null|   null|null|     null|        null|\n",
      "|  mary03@hotmail.com|null|                null|                null|                null|            null|       null|                null|    null|null|null|   null|null|     null|        null|\n",
      "|Chief Financial O...|  65|Freeman, Moody an...|         421-12-6482|    5759 Smith Trace|            null|       null|                null|    null|null|null|   null|null|     null|          70|\n",
      "|           DE 85329\"|null|                  O+|['https://smith.o...|           anthony71|    Morgan Smith|          F|           USS Moore|    null|null|null|   null|null|     null|        null|\n",
      "|    ruth26@gmail.com|null|                null|                null|                null|            null|       null|                null|    null|null|null|   null|null|     null|        null|\n",
      "|        Video editor|  83|        Jones-Fowler|         794-29-0277|4383 King Manor S...|            null|       null|                null|    null|null|null|   null|null|     null|          88|\n",
      "|           UT 64507\"|null|                  O-|['https://www.bal...|         velezdenise| Nicholas Stokes|          M|  2879 Williams Port|    null|null|null|   null|null|     null|        null|\n",
      "|           AL 24747\"|null|          08/10/2002|                null|                null|            null|       null|                null|    null|null|null|   null|null|     null|        null|\n",
      "|Occupational psyc...|  85|Franklin, Mckay a...|         807-07-7725|     2742 Rick Curve|            null|       null|                null|    null|null|null|   null|null|     null|          90|\n",
      "|           KS 82400\"|null|                  O-|['http://campbell...|             tracy04|    Adam Sanders|          M|    9219 Jamie Views|    null|null|null|   null|null|     null|        null|\n",
      "+--------------------+----+--------------------+--------------------+--------------------+----------------+-----------+--------------------+--------+----+----+-------+----+---------+------------+\n",
      "only showing top 20 rows\n",
      "\n"
     ]
    }
   ],
   "source": [
    "df_pyspark.show()"
   ]
  },
  {
   "cell_type": "markdown",
   "id": "668883be",
   "metadata": {},
   "source": [
    "## Rename the column"
   ]
  },
  {
   "cell_type": "code",
   "execution_count": 22,
   "id": "77b06f79",
   "metadata": {},
   "outputs": [],
   "source": [
    "df_pyspark= df_pyspark.withColumnRenamed(\"ssn\",\"Social Security number\") #\"old_name\",\"New_Name\""
   ]
  },
  {
   "cell_type": "code",
   "execution_count": 23,
   "id": "9845e81a",
   "metadata": {},
   "outputs": [
    {
     "data": {
      "text/plain": [
       "['job',\n",
       " 'Age',\n",
       " 'company',\n",
       " 'Social Security number',\n",
       " 'residence',\n",
       " 'current_location',\n",
       " 'blood_group',\n",
       " 'website',\n",
       " 'username',\n",
       " 'name',\n",
       " 'sex',\n",
       " 'address',\n",
       " 'mail',\n",
       " 'birthdate',\n",
       " 'Next 5 years']"
      ]
     },
     "execution_count": 23,
     "metadata": {},
     "output_type": "execute_result"
    }
   ],
   "source": [
    "df_pyspark.columns"
   ]
  },
  {
   "cell_type": "markdown",
   "id": "98a6a6f8",
   "metadata": {},
   "source": [
    "# PySpark Handling Missing Values\n",
    "\n",
    "- Dropping Columns.\n",
    "- Dropping Rows.\n",
    "- Various Parameter in Dropping functionalities.\n",
    "- Handling Missing Values by Means, Media & Mode."
   ]
  },
  {
   "cell_type": "code",
   "execution_count": 25,
   "id": "19ab2c91",
   "metadata": {},
   "outputs": [],
   "source": [
    "#Drop Rows containing blanks\n",
    "df_pyspark = df_pyspark.na.drop(how=\"all\")# We have \"any\" and \"all\" from the documentation.\n",
    "#Udf_pyspark = se \"all\" meaning the entire row must be null for it to drop."
   ]
  },
  {
   "cell_type": "code",
   "execution_count": 26,
   "id": "d8e813c5",
   "metadata": {},
   "outputs": [
    {
     "name": "stdout",
     "output_type": "stream",
     "text": [
      "+--------------------+----+--------------------+----------------------+--------------------+----------------+-----------+--------------------+--------+----+----+-------+----+---------+------------+\n",
      "|                 job| Age|             company|Social Security number|           residence|current_location|blood_group|             website|username|name| sex|address|mail|birthdate|Next 5 years|\n",
      "+--------------------+----+--------------------+----------------------+--------------------+----------------+-----------+--------------------+--------+----+----+-------+----+---------+------------+\n",
      "|Management consul...|  85|           Bates Inc|           538-20-5825|399 Johnson Sprin...|            null|       null|                null|    null|null|null|   null|null|     null|          90|\n",
      "|           WV 29008\"|null|                  B-|  ['http://garcia.c...|            joshua81|  Julie Marshall|          F|0505 Jennifer Und...|    null|null|null|   null|null|     null|        null|\n",
      "|           IA 48052\"|null|          15/10/1993|                  null|                null|            null|       null|                null|    null|null|null|   null|null|     null|        null|\n",
      "|Journalist, newsp...|  91|Wolf, Perkins and...|           027-17-3368|     451 Lori Ridges|            null|       null|                null|    null|null|null|   null|null|     null|          96|\n",
      "|           KS 16771\"|null|                  B+|  ['http://price.ne...|           fferguson|  Steven Simmons|          M|00448 John Stream...|    null|null|null|   null|null|     null|        null|\n",
      "|           GA 79926\"|null|          11/03/1949|                  null|                null|            null|       null|                null|    null|null|null|   null|null|     null|        null|\n",
      "|Research scientis...|  37|          Dawson Inc|           878-32-0473|084 David Land Su...|            null|       null|                null|    null|null|null|   null|null|     null|          42|\n",
      "|           KY 19218\"|null|                  O-|  ['https://rush-st...|             linda98|  Nicole Morales|          F|   91724 Ashley Loaf|    null|null|null|   null|null|     null|        null|\n",
      "|           CA 55841\"|null|          12/03/1994|                  null|                null|            null|       null|                null|    null|null|null|   null|null|     null|        null|\n",
      "|  Press photographer|  76|      Solis and Sons|           563-21-0545|34210 Christina C...|            null|       null|                null|    null|null|null|   null|null|     null|          81|\n",
      "|           NE 73005\"|null|                  A-|  ['http://stewart....|           spencer43|     Juan Cannon|          M|  PSC 5047, Box 7236|    null|null|null|   null|null|     null|        null|\n",
      "|  mary03@hotmail.com|null|                null|                  null|                null|            null|       null|                null|    null|null|null|   null|null|     null|        null|\n",
      "|Chief Financial O...|  65|Freeman, Moody an...|           421-12-6482|    5759 Smith Trace|            null|       null|                null|    null|null|null|   null|null|     null|          70|\n",
      "|           DE 85329\"|null|                  O+|  ['https://smith.o...|           anthony71|    Morgan Smith|          F|           USS Moore|    null|null|null|   null|null|     null|        null|\n",
      "|    ruth26@gmail.com|null|                null|                  null|                null|            null|       null|                null|    null|null|null|   null|null|     null|        null|\n",
      "|        Video editor|  83|        Jones-Fowler|           794-29-0277|4383 King Manor S...|            null|       null|                null|    null|null|null|   null|null|     null|          88|\n",
      "|           UT 64507\"|null|                  O-|  ['https://www.bal...|         velezdenise| Nicholas Stokes|          M|  2879 Williams Port|    null|null|null|   null|null|     null|        null|\n",
      "|           AL 24747\"|null|          08/10/2002|                  null|                null|            null|       null|                null|    null|null|null|   null|null|     null|        null|\n",
      "|Occupational psyc...|  85|Franklin, Mckay a...|           807-07-7725|     2742 Rick Curve|            null|       null|                null|    null|null|null|   null|null|     null|          90|\n",
      "|           KS 82400\"|null|                  O-|  ['http://campbell...|             tracy04|    Adam Sanders|          M|    9219 Jamie Views|    null|null|null|   null|null|     null|        null|\n",
      "+--------------------+----+--------------------+----------------------+--------------------+----------------+-----------+--------------------+--------+----+----+-------+----+---------+------------+\n",
      "only showing top 20 rows\n",
      "\n"
     ]
    }
   ],
   "source": [
    "df_pyspark.show()"
   ]
  },
  {
   "cell_type": "code",
   "execution_count": 27,
   "id": "55afc007",
   "metadata": {},
   "outputs": [],
   "source": [
    "# Remove the duplicate rows\n",
    "df_pyspark = df_pyspark.dropDuplicates()"
   ]
  },
  {
   "cell_type": "code",
   "execution_count": 28,
   "id": "79453d44",
   "metadata": {},
   "outputs": [
    {
     "name": "stdout",
     "output_type": "stream",
     "text": [
      "+--------------------+----+--------------------+----------------------+--------------------+----------------+--------------------+--------------------+--------+----+----+-------+----+---------+------------+\n",
      "|                 job| Age|             company|Social Security number|           residence|current_location|         blood_group|             website|username|name| sex|address|mail|birthdate|Next 5 years|\n",
      "+--------------------+----+--------------------+----------------------+--------------------+----------------+--------------------+--------------------+--------+----+----+-------+----+---------+------------+\n",
      "|Chartered loss ad...|  94|Chapman, Chapman ...|           681-89-4510|  3888 Joseph Cliffs|            null|                null|                null|    null|null|null|   null|null|     null|          99|\n",
      "|           AL 58260\"|null|                  O-|  ['http://martin.c...|     michaelstafford|   Sandra Holmes|                   F|7522 Larson Cape ...|    null|null|null|   null|null|     null|        null|\n",
      "|Child psychothera...|  29|         Martin-Shea|           573-33-9788|    90691 Lisa Falls|            null|                null|                null|    null|null|null|   null|null|     null|          34|\n",
      "|           PA 85055\"|null|          20/07/1929|                  null|                null|            null|                null|                null|    null|null|null|   null|null|     null|        null|\n",
      "|           AL 36570\"|null|          18/12/1970|                  null|                null|            null|                null|                null|    null|null|null|   null|null|     null|        null|\n",
      "|       Lexicographer|  29|      Cline and Sons|           096-45-7302|   924 Andrew Summit|            null|                null|                null|    null|null|null|   null|null|     null|          34|\n",
      "|          Translator|  59|           Jones LLC|           419-16-1983|52982 Chase Grove...|            null|                null|                null|    null|null|null|   null|null|     null|          64|\n",
      "|           TN 65076\"|null|          01/08/1961|                  null|                null|            null|                null|                null|    null|null|null|   null|null|     null|        null|\n",
      "|   rwalker@gmail.com|null|                null|                  null|                null|            null|                null|                null|    null|null|null|   null|null|     null|        null|\n",
      "|(Decimal('49.8022...|null|['https://wilson....|            jennifer06|           Erin Bass|               F|200 Jeff Expressw...|                null|    null|null|null|   null|null|     null|        null|\n",
      "|Conservation offi...|  38|      Riley and Sons|           208-43-3365|212 Carney Forest...|            null|                null|                null|    null|null|null|   null|null|     null|          43|\n",
      "|Scientific labora...|  33|          Moreno Inc|           025-56-6756|   10504 Ashley Ways|            null|                null|                null|    null|null|null|   null|null|     null|          38|\n",
      "|   Financial planner|  31|Murphy, Lewis and...|           370-96-7401|712 Frank Forge A...|            null|                null|                null|    null|null|null|   null|null|     null|          36|\n",
      "|           ID 46712\"|null|          29/01/1947|                  null|                null|            null|                null|                null|    null|null|null|   null|null|     null|        null|\n",
      "|           WV 41211\"|null|                  A+|  ['https://parker....|         penamelissa|Samuel Rodriguez|                   M|  PSC 3429, Box 7280|    null|null|null|   null|null|     null|        null|\n",
      "| Pensions consultant|  85|Lutz, Baker and W...|           767-58-4451| 260 Sonia Mountains|            null|                null|                null|    null|null|null|   null|null|     null|          90|\n",
      "|Architectural tec...|  55|Thompson, Manning...|           740-15-0331|      288 James Flat|            null|                null|                null|    null|null|null|   null|null|     null|          60|\n",
      "|Research officer,...|  68|Owens, Wilson and...|           648-46-8471|6406 Miller Turnpike|            null|                null|                null|    null|null|null|   null|null|     null|          73|\n",
      "|   bgreene@gmail.com|null|                null|                  null|                null|            null|                null|                null|    null|null|null|   null|null|     null|        null|\n",
      "|           MT 33210\"|null|          02/03/1994|                  null|                null|            null|                null|                null|    null|null|null|   null|null|     null|        null|\n",
      "+--------------------+----+--------------------+----------------------+--------------------+----------------+--------------------+--------------------+--------+----+----+-------+----+---------+------------+\n",
      "only showing top 20 rows\n",
      "\n"
     ]
    }
   ],
   "source": [
    "df_pyspark.show()"
   ]
  },
  {
   "cell_type": "markdown",
   "id": "53fbbaae",
   "metadata": {},
   "source": [
    "## Dealing with missing values"
   ]
  },
  {
   "cell_type": "code",
   "execution_count": 37,
   "id": "b33b0f68",
   "metadata": {},
   "outputs": [],
   "source": [
    "#Method 1.\n",
    "#df_pyspark.na.fill(\"0\",[\"sex\",\"name\"]) #This is use to treat missing values, replace missing values in Sex & Name with \"0\""
   ]
  },
  {
   "cell_type": "code",
   "execution_count": 38,
   "id": "cdd0e085",
   "metadata": {},
   "outputs": [],
   "source": [
    "'''#Method 2\n",
    "from pyspark.ml.feature import Imputer\n",
    "\n",
    "imputer = Imputer(\n",
    "    inputCols = [\"sex\",\"name\"],\n",
    "    outputCols = [\"{}_imputer\".format(c) for c in [\"sex\",\"name\"]]\n",
    "    ).setStrategy(\"mean\") #Filling by the mean value'''"
   ]
  },
  {
   "cell_type": "markdown",
   "id": "73eccdd5",
   "metadata": {},
   "source": [
    "## PySpark Filter Operation"
   ]
  },
  {
   "cell_type": "code",
   "execution_count": 39,
   "id": "cc87d065",
   "metadata": {},
   "outputs": [
    {
     "name": "stdout",
     "output_type": "stream",
     "text": [
      "+--------------------+---+--------------------+----------------------+--------------------+----------------+-----------+-------+--------+----+----+-------+----+---------+------------+\n",
      "|                 job|Age|             company|Social Security number|           residence|current_location|blood_group|website|username|name| sex|address|mail|birthdate|Next 5 years|\n",
      "+--------------------+---+--------------------+----------------------+--------------------+----------------+-----------+-------+--------+----+----+-------+----+---------+------------+\n",
      "|Chartered loss ad...| 94|Chapman, Chapman ...|           681-89-4510|  3888 Joseph Cliffs|            null|       null|   null|    null|null|null|   null|null|     null|          99|\n",
      "| Pensions consultant| 85|Lutz, Baker and W...|           767-58-4451| 260 Sonia Mountains|            null|       null|   null|    null|null|null|   null|null|     null|          90|\n",
      "|Research officer,...| 68|Owens, Wilson and...|           648-46-8471|6406 Miller Turnpike|            null|       null|   null|    null|null|null|   null|null|     null|          73|\n",
      "|        Geoscientist| 95|       Bonilla-Adams|           883-14-9018|13583 Wilson Ramp...|            null|       null|   null|    null|null|null|   null|null|     null|         100|\n",
      "|Scientist, produc...| 71|Ferguson, Cole an...|           715-36-6841|   256 Collins Inlet|            null|       null|   null|    null|null|null|   null|null|     null|          76|\n",
      "|    Financial trader| 82|Crosby, Hall and ...|           626-26-8192|5764 Heather Forg...|            null|       null|   null|    null|null|null|   null|null|     null|          87|\n",
      "|Research officer,...| 89|     Miller and Sons|           743-56-2212|616 Sheena Street...|            null|       null|   null|    null|null|null|   null|null|     null|          94|\n",
      "|Scientist, resear...| 60| Roy, Ward and Avery|           407-74-6683|       540 Cox Grove|            null|       null|   null|    null|null|null|   null|null|     null|          65|\n",
      "|   Probation officer| 99|            Ross Ltd|           296-74-7412|1499 Zamora Rue A...|            null|       null|   null|    null|null|null|   null|null|     null|         104|\n",
      "|        Toxicologist| 80|          Miller Ltd|           617-01-6430|  PSC 1616, Box 6330|            null|       null|   null|    null|null|null|   null|null|     null|          85|\n",
      "|       Airline pilot| 98|           Ryan-Lynn|           646-45-6287|6223 Davis Glens ...|            null|       null|   null|    null|null|null|   null|null|     null|         103|\n",
      "|    Theatre director| 68|          Briggs Ltd|           895-24-1511|          USNV Stark|            null|       null|   null|    null|null|null|   null|null|     null|          73|\n",
      "|Pharmacist, hospital| 75|            Wade Ltd|           644-99-0472|     560 Byrd Harbor|            null|       null|   null|    null|null|null|   null|null|     null|          80|\n",
      "|Local government ...| 99|      Cunningham PLC|           464-67-7975| 95264 Nicholas Cove|            null|       null|   null|    null|null|null|   null|null|     null|         104|\n",
      "|      Futures trader| 76|       Middleton Inc|           818-47-2646|  PSC 8699, Box 3749|            null|       null|   null|    null|null|null|   null|null|     null|          81|\n",
      "|  Arts administrator| 85|      Harrison Group|           708-68-3390|    752 Sloan Points|            null|       null|   null|    null|null|null|   null|null|     null|          90|\n",
      "|     Systems analyst| 88|         Perez Group|           446-32-3564|062 Tracy Parks S...|            null|       null|   null|    null|null|null|   null|null|     null|          93|\n",
      "|   Personnel officer| 77|  Rodriguez-Williams|           234-16-7305|16449 Lauren Summ...|            null|       null|   null|    null|null|null|   null|null|     null|          82|\n",
      "|Journalist, newsp...| 69|Lucas, Saunders a...|           049-52-0708|49943 Hernandez M...|            null|       null|   null|    null|null|null|   null|null|     null|          74|\n",
      "| Trade mark attorney| 93|           Marks LLC|           685-72-8351|07455 Ayala Exten...|            null|       null|   null|    null|null|null|   null|null|     null|          98|\n",
      "+--------------------+---+--------------------+----------------------+--------------------+----------------+-----------+-------+--------+----+----+-------+----+---------+------------+\n",
      "only showing top 20 rows\n",
      "\n"
     ]
    }
   ],
   "source": [
    "df_pyspark.filter(\"Age>=60\").show() #Filter for Age greater than 60."
   ]
  },
  {
   "cell_type": "code",
   "execution_count": 40,
   "id": "9ed03b61",
   "metadata": {},
   "outputs": [
    {
     "name": "stdout",
     "output_type": "stream",
     "text": [
      "+----+----+---+\n",
      "|name| sex|Age|\n",
      "+----+----+---+\n",
      "|null|null| 94|\n",
      "|null|null| 85|\n",
      "|null|null| 68|\n",
      "|null|null| 95|\n",
      "|null|null| 71|\n",
      "|null|null| 82|\n",
      "|null|null| 89|\n",
      "|null|null| 60|\n",
      "|null|null| 99|\n",
      "|null|null| 80|\n",
      "|null|null| 98|\n",
      "|null|null| 68|\n",
      "|null|null| 75|\n",
      "|null|null| 99|\n",
      "|null|null| 76|\n",
      "|null|null| 85|\n",
      "|null|null| 88|\n",
      "|null|null| 77|\n",
      "|null|null| 69|\n",
      "|null|null| 93|\n",
      "+----+----+---+\n",
      "only showing top 20 rows\n",
      "\n"
     ]
    }
   ],
   "source": [
    "df_pyspark.filter(\"Age>=60\").select([\"name\",\"sex\",\"Age\"]).show()"
   ]
  },
  {
   "cell_type": "code",
   "execution_count": 42,
   "id": "19040e9c",
   "metadata": {},
   "outputs": [
    {
     "name": "stdout",
     "output_type": "stream",
     "text": [
      "+--------------------+\n",
      "|                 job|\n",
      "+--------------------+\n",
      "|Chartered loss ad...|\n",
      "|           AL 58260\"|\n",
      "|Child psychothera...|\n",
      "|           PA 85055\"|\n",
      "|           AL 36570\"|\n",
      "|       Lexicographer|\n",
      "|          Translator|\n",
      "|           TN 65076\"|\n",
      "|   rwalker@gmail.com|\n",
      "|(Decimal('49.8022...|\n",
      "|Conservation offi...|\n",
      "|Scientific labora...|\n",
      "|   Financial planner|\n",
      "|           ID 46712\"|\n",
      "|           WV 41211\"|\n",
      "| Pensions consultant|\n",
      "|Architectural tec...|\n",
      "|Research officer,...|\n",
      "|   bgreene@gmail.com|\n",
      "|           MT 33210\"|\n",
      "+--------------------+\n",
      "only showing top 20 rows\n",
      "\n"
     ]
    }
   ],
   "source": [
    "df_pyspark.select(\"job\").show()"
   ]
  },
  {
   "cell_type": "code",
   "execution_count": 5,
   "id": "33e1e139",
   "metadata": {},
   "outputs": [],
   "source": [
    "df_pyspark_2 = spark.read.csv(\"Big_Data.csv\", header=True, inferSchema=True)"
   ]
  },
  {
   "cell_type": "code",
   "execution_count": 6,
   "id": "a7a1042e",
   "metadata": {},
   "outputs": [
    {
     "name": "stdout",
     "output_type": "stream",
     "text": [
      "root\n",
      " |-- Order NO: integer (nullable = true)\n",
      " |-- Order Date: integer (nullable = true)\n",
      " |-- Countries: string (nullable = true)\n",
      " |-- Pie Flavor3: string (nullable = true)\n",
      " |-- Quantity4: integer (nullable = true)\n",
      " |-- Price: integer (nullable = true)\n",
      " |-- Amount Sold: integer (nullable = true)\n",
      " |-- Slice Or Whole Pie: string (nullable = true)\n",
      " |-- Pre-Order/In-Store Purchase: string (nullable = true)\n",
      " |-- Organic?: string (nullable = true)\n",
      " |-- _c10: string (nullable = true)\n",
      " |-- _c11: string (nullable = true)\n",
      " |-- _c12: string (nullable = true)\n",
      " |-- _c13: string (nullable = true)\n",
      " |-- _c14: string (nullable = true)\n",
      " |-- _c15: string (nullable = true)\n",
      " |-- _c16: string (nullable = true)\n",
      " |-- _c17: string (nullable = true)\n",
      " |-- _c18: string (nullable = true)\n",
      " |-- _c19: string (nullable = true)\n",
      " |-- _c20: string (nullable = true)\n",
      " |-- _c21: string (nullable = true)\n",
      " |-- Pie Flavor22: string (nullable = true)\n",
      " |-- Quantity23: string (nullable = true)\n",
      " |-- _c24: string (nullable = true)\n",
      " |-- _c25: string (nullable = true)\n",
      "\n"
     ]
    }
   ],
   "source": [
    "df_pyspark_2.printSchema()"
   ]
  },
  {
   "cell_type": "code",
   "execution_count": 7,
   "id": "0a2301a7",
   "metadata": {},
   "outputs": [
    {
     "data": {
      "text/plain": [
       "['Order NO',\n",
       " 'Order Date',\n",
       " 'Countries',\n",
       " 'Pie Flavor3',\n",
       " 'Quantity4',\n",
       " 'Price',\n",
       " 'Amount Sold',\n",
       " 'Slice Or Whole Pie',\n",
       " 'Pre-Order/In-Store Purchase',\n",
       " 'Organic?',\n",
       " '_c10',\n",
       " '_c11',\n",
       " '_c12',\n",
       " '_c13',\n",
       " '_c14',\n",
       " '_c15',\n",
       " '_c16',\n",
       " '_c17',\n",
       " '_c18',\n",
       " '_c19',\n",
       " '_c20',\n",
       " '_c21',\n",
       " 'Pie Flavor22',\n",
       " 'Quantity23',\n",
       " '_c24',\n",
       " '_c25']"
      ]
     },
     "execution_count": 7,
     "metadata": {},
     "output_type": "execute_result"
    }
   ],
   "source": [
    "df_pyspark_2.columns"
   ]
  },
  {
   "cell_type": "code",
   "execution_count": 8,
   "id": "b7cba693",
   "metadata": {},
   "outputs": [],
   "source": [
    "#Fit the datatypes\n",
    "from pyspark.sql.functions import to_date, col\n",
    "df_pyspark_2 = df_pyspark_2.withColumn(\"Order Date\", to_date(\"Order Date\",\"dd-MM-yyyy\"))"
   ]
  },
  {
   "cell_type": "code",
   "execution_count": 9,
   "id": "7f02f2e8",
   "metadata": {},
   "outputs": [],
   "source": [
    "from pyspark.sql.types import IntegerType\n",
    "df_pyspark_2 = df_pyspark_2.withColumn(\"Amount Sold\", df_pyspark_2[\"Amount Sold\"].cast(IntegerType()))"
   ]
  },
  {
   "cell_type": "code",
   "execution_count": 10,
   "id": "238623ab",
   "metadata": {},
   "outputs": [],
   "source": [
    "from pyspark.sql.types import IntegerType\n",
    "df_pyspark_2 = df_pyspark_2.withColumn(\"Price\", df_pyspark_2[\"Price\"].cast(IntegerType()))"
   ]
  },
  {
   "cell_type": "code",
   "execution_count": 11,
   "id": "5905f920",
   "metadata": {},
   "outputs": [
    {
     "data": {
      "text/plain": [
       "'from pyspark.sql.types import IntegerType\\ndf_pyspark_2 = df_pyspark_2.withColumn(\"Quantity4\", df_pyspark_2[\"Quantity4\"].cast(IntegerType()))'"
      ]
     },
     "execution_count": 11,
     "metadata": {},
     "output_type": "execute_result"
    }
   ],
   "source": [
    "'''from pyspark.sql.types import IntegerType\n",
    "df_pyspark_2 = df_pyspark_2.withColumn(\"Quantity4\", df_pyspark_2[\"Quantity4\"].cast(IntegerType()))'''"
   ]
  },
  {
   "cell_type": "code",
   "execution_count": 12,
   "id": "1880e19e",
   "metadata": {},
   "outputs": [
    {
     "name": "stdout",
     "output_type": "stream",
     "text": [
      "root\n",
      " |-- Order NO: integer (nullable = true)\n",
      " |-- Order Date: date (nullable = true)\n",
      " |-- Countries: string (nullable = true)\n",
      " |-- Pie Flavor3: string (nullable = true)\n",
      " |-- Quantity4: integer (nullable = true)\n",
      " |-- Price: integer (nullable = true)\n",
      " |-- Amount Sold: integer (nullable = true)\n",
      " |-- Slice Or Whole Pie: string (nullable = true)\n",
      " |-- Pre-Order/In-Store Purchase: string (nullable = true)\n",
      " |-- Organic?: string (nullable = true)\n",
      " |-- _c10: string (nullable = true)\n",
      " |-- _c11: string (nullable = true)\n",
      " |-- _c12: string (nullable = true)\n",
      " |-- _c13: string (nullable = true)\n",
      " |-- _c14: string (nullable = true)\n",
      " |-- _c15: string (nullable = true)\n",
      " |-- _c16: string (nullable = true)\n",
      " |-- _c17: string (nullable = true)\n",
      " |-- _c18: string (nullable = true)\n",
      " |-- _c19: string (nullable = true)\n",
      " |-- _c20: string (nullable = true)\n",
      " |-- _c21: string (nullable = true)\n",
      " |-- Pie Flavor22: string (nullable = true)\n",
      " |-- Quantity23: string (nullable = true)\n",
      " |-- _c24: string (nullable = true)\n",
      " |-- _c25: string (nullable = true)\n",
      "\n"
     ]
    }
   ],
   "source": [
    "df_pyspark_2.printSchema()"
   ]
  },
  {
   "cell_type": "code",
   "execution_count": 13,
   "id": "0bcdc3e5",
   "metadata": {},
   "outputs": [],
   "source": [
    "# delete two columns\n",
    "df_pyspark_2=df_pyspark_2.drop(*('_c10','_c11','_c12','_c13','_c14','_c15','_c16','_c17','_c18',\n",
    "                                 '_c19','_c20','_c21','Pie Flavor22','Quantity23','_c24','_c25'))"
   ]
  },
  {
   "cell_type": "code",
   "execution_count": 14,
   "id": "10248c27",
   "metadata": {},
   "outputs": [
    {
     "data": {
      "text/plain": [
       "['Order NO',\n",
       " 'Order Date',\n",
       " 'Countries',\n",
       " 'Pie Flavor3',\n",
       " 'Quantity4',\n",
       " 'Price',\n",
       " 'Amount Sold',\n",
       " 'Slice Or Whole Pie',\n",
       " 'Pre-Order/In-Store Purchase',\n",
       " 'Organic?']"
      ]
     },
     "execution_count": 14,
     "metadata": {},
     "output_type": "execute_result"
    }
   ],
   "source": [
    "df_pyspark_2.columns"
   ]
  },
  {
   "cell_type": "code",
   "execution_count": 15,
   "id": "8e45579e",
   "metadata": {},
   "outputs": [
    {
     "name": "stdout",
     "output_type": "stream",
     "text": [
      "root\n",
      " |-- Order NO: integer (nullable = true)\n",
      " |-- Order Date: date (nullable = true)\n",
      " |-- Countries: string (nullable = true)\n",
      " |-- Pie Flavor3: string (nullable = true)\n",
      " |-- Quantity4: integer (nullable = true)\n",
      " |-- Price: integer (nullable = true)\n",
      " |-- Amount Sold: integer (nullable = true)\n",
      " |-- Slice Or Whole Pie: string (nullable = true)\n",
      " |-- Pre-Order/In-Store Purchase: string (nullable = true)\n",
      " |-- Organic?: string (nullable = true)\n",
      "\n"
     ]
    }
   ],
   "source": [
    "df_pyspark_2.printSchema()"
   ]
  },
  {
   "cell_type": "markdown",
   "id": "24bce611",
   "metadata": {},
   "source": [
    "## Change the Column Name"
   ]
  },
  {
   "cell_type": "code",
   "execution_count": 16,
   "id": "e24d7ba0",
   "metadata": {},
   "outputs": [],
   "source": [
    "df_pyspark_2= df_pyspark_2.withColumnRenamed(\"Pie Flavor3\",\"Pie_Flavor\")\n",
    "df_pyspark_2= df_pyspark_2.withColumnRenamed(\"Quantity4\",\"Quantity\")"
   ]
  },
  {
   "cell_type": "code",
   "execution_count": 17,
   "id": "2829da99",
   "metadata": {},
   "outputs": [
    {
     "data": {
      "text/plain": [
       "['Order NO',\n",
       " 'Order Date',\n",
       " 'Countries',\n",
       " 'Pie_Flavor',\n",
       " 'Quantity',\n",
       " 'Price',\n",
       " 'Amount Sold',\n",
       " 'Slice Or Whole Pie',\n",
       " 'Pre-Order/In-Store Purchase',\n",
       " 'Organic?']"
      ]
     },
     "execution_count": 17,
     "metadata": {},
     "output_type": "execute_result"
    }
   ],
   "source": [
    "df_pyspark_2.columns"
   ]
  },
  {
   "cell_type": "code",
   "execution_count": 18,
   "id": "877f02f1",
   "metadata": {},
   "outputs": [
    {
     "name": "stdout",
     "output_type": "stream",
     "text": [
      "+-----------+\n",
      "|Amount Sold|\n",
      "+-----------+\n",
      "|      33605|\n",
      "|      13716|\n",
      "|      11586|\n",
      "|      33208|\n",
      "|      11206|\n",
      "|      23130|\n",
      "|      14613|\n",
      "|      47315|\n",
      "|      14910|\n",
      "|       8437|\n",
      "|      10260|\n",
      "|       4590|\n",
      "|      12874|\n",
      "|       9574|\n",
      "|      31748|\n",
      "|       8024|\n",
      "|      16956|\n",
      "|       1627|\n",
      "|      32710|\n",
      "|       7325|\n",
      "+-----------+\n",
      "only showing top 20 rows\n",
      "\n"
     ]
    }
   ],
   "source": [
    "df_pyspark_2.select(\"Amount Sold\").show()"
   ]
  },
  {
   "cell_type": "code",
   "execution_count": 19,
   "id": "6e5bad05",
   "metadata": {},
   "outputs": [
    {
     "name": "stdout",
     "output_type": "stream",
     "text": [
      "+--------+----------+-------------+------------------+--------+-----+-----------+------------------+---------------------------+--------+\n",
      "|Order NO|Order Date|    Countries|        Pie_Flavor|Quantity|Price|Amount Sold|Slice Or Whole Pie|Pre-Order/In-Store Purchase|Organic?|\n",
      "+--------+----------+-------------+------------------+--------+-----+-----------+------------------+---------------------------+--------+\n",
      "|   10004|      null|     Botswana|             Apple|       4| 8302|      33208|             Whole|                  Pre-Order|      No|\n",
      "|   10006|      null|      Burundi|             Apple|       3| 7710|      23130|             Whole|                  Pre-Order|      No|\n",
      "|   10008|      null|     Cameroon|             Apple|       5| 9463|      47315|             Slice|                  Pre-Order|     Yes|\n",
      "|   10010|      null|         Chad|Strawberry Rhubarb|       1| 8437|       8437|             Slice|                   In-Store|      No|\n",
      "|   10014|      null|     Djibouti|            Cherry|       1| 9574|       9574|             Whole|                   In-Store|     Yes|\n",
      "|   10015|      null|     DR Congo|             Apple|       4| 7937|      31748|             Whole|                  Pre-Order|     Yes|\n",
      "|   10022|      null|       Gambia|             Apple|       4| 7851|      31404|             Whole|                   In-Store|     Yes|\n",
      "|   10023|      null|        Ghana|             Fudge|       2| 8841|      17682|             Whole|                   In-Store|     Yes|\n",
      "|   10025|      null|Guinea-Bissau|             Apple|       1| 7620|       7620|             Slice|                  Pre-Order|     Yes|\n",
      "|   10027|      null|      Lesotho|           Pumpkin|       2| 9097|      18194|             Whole|                  Pre-Order|     Yes|\n",
      "|   10028|      null|      Liberia|             Fudge|       4| 9855|      39420|             Slice|                   In-Store|     Yes|\n",
      "|   10029|      null|        Libya|             Fudge|       5| 8368|      41840|             Slice|                  Pre-Order|     Yes|\n",
      "|   10033|      null|   Mauritania|         Blueberry|       1| 7071|       7071|             Whole|                   In-Store|     Yes|\n",
      "|   10042|      null|      Senegal|             Apple|       4| 7544|      30176|             Slice|                  Pre-Order|     Yes|\n",
      "|   10046|      null| South Africa|Strawberry Rhubarb|       3| 9221|      27663|             Whole|                  Pre-Order|     Yes|\n",
      "|   10047|      null|  South Sudan|Strawberry Rhubarb|       1| 8978|       8978|             Whole|                  Pre-Order|     Yes|\n",
      "|   10050|      null|         Togo|             Apple|       4| 8987|      35948|             Whole|                  Pre-Order|     Yes|\n",
      "|   10053|      null|       Zambia|           Pumpkin|       2| 9527|      19054|             Whole|                  Pre-Order|     Yes|\n",
      "|   10055|      null|      Algeria|           Pumpkin|       5| 9033|      45165|             Whole|                  Pre-Order|     Yes|\n",
      "|   10059|      null| Burkina Faso|             Fudge|       1| 7861|       7861|             Whole|                  Pre-Order|     Yes|\n",
      "+--------+----------+-------------+------------------+--------+-----+-----------+------------------+---------------------------+--------+\n",
      "only showing top 20 rows\n",
      "\n"
     ]
    }
   ],
   "source": [
    "df_pyspark_2.filter(df_pyspark_2[\"Price\"] >= 7000).show()"
   ]
  },
  {
   "cell_type": "code",
   "execution_count": 20,
   "id": "9d97b8d2",
   "metadata": {},
   "outputs": [
    {
     "name": "stdout",
     "output_type": "stream",
     "text": [
      "+--------+----------+-------------+------------------+--------+-----+-----------+------------------+---------------------------+--------+\n",
      "|Order NO|Order Date|    Countries|        Pie_Flavor|Quantity|Price|Amount Sold|Slice Or Whole Pie|Pre-Order/In-Store Purchase|Organic?|\n",
      "+--------+----------+-------------+------------------+--------+-----+-----------+------------------+---------------------------+--------+\n",
      "|   10004|      null|     Botswana|             Apple|       4| 8302|      33208|             Whole|                  Pre-Order|      No|\n",
      "|   10006|      null|      Burundi|             Apple|       3| 7710|      23130|             Whole|                  Pre-Order|      No|\n",
      "|   10010|      null|         Chad|Strawberry Rhubarb|       1| 8437|       8437|             Slice|                   In-Store|      No|\n",
      "|   10015|      null|     DR Congo|             Apple|       4| 7937|      31748|             Whole|                  Pre-Order|     Yes|\n",
      "|   10022|      null|       Gambia|             Apple|       4| 7851|      31404|             Whole|                   In-Store|     Yes|\n",
      "|   10023|      null|        Ghana|             Fudge|       2| 8841|      17682|             Whole|                   In-Store|     Yes|\n",
      "|   10025|      null|Guinea-Bissau|             Apple|       1| 7620|       7620|             Slice|                  Pre-Order|     Yes|\n",
      "|   10029|      null|        Libya|             Fudge|       5| 8368|      41840|             Slice|                  Pre-Order|     Yes|\n",
      "|   10033|      null|   Mauritania|         Blueberry|       1| 7071|       7071|             Whole|                   In-Store|     Yes|\n",
      "|   10042|      null|      Senegal|             Apple|       4| 7544|      30176|             Slice|                  Pre-Order|     Yes|\n",
      "|   10047|      null|  South Sudan|Strawberry Rhubarb|       1| 8978|       8978|             Whole|                  Pre-Order|     Yes|\n",
      "|   10050|      null|         Togo|             Apple|       4| 8987|      35948|             Whole|                  Pre-Order|     Yes|\n",
      "|   10059|      null| Burkina Faso|             Fudge|       1| 7861|       7861|             Whole|                  Pre-Order|     Yes|\n",
      "|   10064|      null|         Chad|             Fudge|       3| 8543|      25629|             Whole|                   In-Store|     Yes|\n",
      "|   10074|      null|     Ethiopia|Strawberry Rhubarb|       5| 8057|      40285|             Slice|                  Pre-Order|     Yes|\n",
      "|   10081|      null|      Lesotho|Strawberry Rhubarb|       5| 8293|      41465|             Whole|                   In-Store|     Yes|\n",
      "|   10088|      null|    Mauritius|Strawberry Rhubarb|       2| 8013|      16026|             Slice|                  Pre-Order|      No|\n",
      "|   10099|      null|      Somalia|             Apple|       3| 8789|      26367|             Slice|                  Pre-Order|     Yes|\n",
      "|   10102|      null|        Sudan|             Apple|       5| 8800|      44000|             Whole|                  Pre-Order|      No|\n",
      "|   10107|      null|       Zambia|           Pumpkin|       5| 8077|      40385|             Slice|                  Pre-Order|      No|\n",
      "+--------+----------+-------------+------------------+--------+-----+-----------+------------------+---------------------------+--------+\n",
      "only showing top 20 rows\n",
      "\n"
     ]
    }
   ],
   "source": [
    "df_pyspark_2.filter((df_pyspark_2['Price']>=7000) & (df_pyspark_2['Price']<=9000)).show() #This gives between the range of 7e3-9e3"
   ]
  },
  {
   "cell_type": "code",
   "execution_count": 21,
   "id": "7c39fe9e",
   "metadata": {},
   "outputs": [
    {
     "name": "stdout",
     "output_type": "stream",
     "text": [
      "+--------+----------+--------------------+----------+--------+-----+-----------+------------------+---------------------------+--------+\n",
      "|Order NO|Order Date|           Countries|Pie_Flavor|Quantity|Price|Amount Sold|Slice Or Whole Pie|Pre-Order/In-Store Purchase|Organic?|\n",
      "+--------+----------+--------------------+----------+--------+-----+-----------+------------------+---------------------------+--------+\n",
      "|   10001|      null|             Algeria|     Apple|       5| 6721|      33605|             Slice|                  Pre-Order|      No|\n",
      "|   10002|      null|              Angola|     Apple|       3| 4572|      13716|             Whole|                   In-Store|     Yes|\n",
      "|   10003|      null|               Benin|     Apple|       3| 3862|      11586|             Whole|                   In-Store|      No|\n",
      "|   10004|      null|            Botswana|     Apple|       4| 8302|      33208|             Whole|                  Pre-Order|      No|\n",
      "|   10005|      null|        Burkina Faso|     Apple|       2| 5603|      11206|             Whole|                   In-Store|      No|\n",
      "|   10006|      null|             Burundi|     Apple|       3| 7710|      23130|             Whole|                  Pre-Order|      No|\n",
      "|   10007|      null|          Cabo Verde|     Apple|       3| 4871|      14613|             Whole|                  Pre-Order|      No|\n",
      "|   10008|      null|            Cameroon|     Apple|       5| 9463|      47315|             Slice|                  Pre-Order|     Yes|\n",
      "|   10009|      null|Central African R...|    Cherry|       3| 4970|      14910|             Whole|                   In-Store|      No|\n",
      "|   10011|      null|             Comoros|    Cherry|       4| 2565|      10260|             Slice|                  Pre-Order|     Yes|\n",
      "|   10013|      null|       C�te d'Ivoire|    Cherry|       2| 6437|      12874|             Slice|                   In-Store|     Yes|\n",
      "|   10014|      null|            Djibouti|    Cherry|       1| 9574|       9574|             Whole|                   In-Store|     Yes|\n",
      "|   10015|      null|            DR Congo|     Apple|       4| 7937|      31748|             Whole|                  Pre-Order|     Yes|\n",
      "|   10016|      null|               Egypt|    Cherry|       4| 2006|       8024|             Whole|                   In-Store|     Yes|\n",
      "|   10018|      null|             Eritrea|     Apple|       1| 1627|       1627|             Whole|                  Pre-Order|     Yes|\n",
      "|   10019|      null|            Eswatini|     Apple|       5| 6542|      32710|             Whole|                  Pre-Order|     Yes|\n",
      "|   10021|      null|               Gabon|     Apple|       3| 2756|       8268|             Whole|                   In-Store|     Yes|\n",
      "|   10022|      null|              Gambia|     Apple|       4| 7851|      31404|             Whole|                   In-Store|     Yes|\n",
      "|   10025|      null|       Guinea-Bissau|     Apple|       1| 7620|       7620|             Slice|                  Pre-Order|     Yes|\n",
      "|   10034|      null|           Mauritius|     Apple|       3| 1561|       4683|             Slice|                  Pre-Order|     Yes|\n",
      "+--------+----------+--------------------+----------+--------+-----+-----------+------------------+---------------------------+--------+\n",
      "only showing top 20 rows\n",
      "\n"
     ]
    }
   ],
   "source": [
    "df_pyspark_2.filter((df_pyspark_2['Pie_Flavor']=='Apple') | (df_pyspark_2['Pie_Flavor']==\"Cherry\")).show() #This gives between the range of 7e3-9e3"
   ]
  },
  {
   "cell_type": "code",
   "execution_count": 22,
   "id": "c09802f3",
   "metadata": {},
   "outputs": [
    {
     "name": "stdout",
     "output_type": "stream",
     "text": [
      "+----------+-----+--------+-----------+\n",
      "|Order Date|Price|Quantity|Amount Sold|\n",
      "+----------+-----+--------+-----------+\n",
      "|      null| 6721|       5|      33605|\n",
      "|      null| 4572|       3|      13716|\n",
      "|      null| 3862|       3|      11586|\n",
      "|      null| 8302|       4|      33208|\n",
      "|      null| 5603|       2|      11206|\n",
      "|      null| 7710|       3|      23130|\n",
      "|      null| 4871|       3|      14613|\n",
      "|      null| 9463|       5|      47315|\n",
      "|      null| 4970|       3|      14910|\n",
      "|      null| 8437|       1|       8437|\n",
      "|      null| 2565|       4|      10260|\n",
      "|      null| 4590|       1|       4590|\n",
      "|      null| 6437|       2|      12874|\n",
      "|      null| 9574|       1|       9574|\n",
      "|      null| 7937|       4|      31748|\n",
      "|      null| 2006|       4|       8024|\n",
      "|      null| 5652|       3|      16956|\n",
      "|      null| 1627|       1|       1627|\n",
      "|      null| 6542|       5|      32710|\n",
      "|      null| 1465|       5|       7325|\n",
      "+----------+-----+--------+-----------+\n",
      "only showing top 20 rows\n",
      "\n"
     ]
    }
   ],
   "source": [
    "df_pyspark_2.select([\"Order Date\",\"Price\",\"Quantity\",\"Amount Sold\"]).show() #Show certain columns"
   ]
  },
  {
   "cell_type": "markdown",
   "id": "be37cef8",
   "metadata": {},
   "source": [
    "Read more on Filter using PySPark: https://sparkbyexamples.com/pyspark/pyspark-where-filter/"
   ]
  },
  {
   "cell_type": "code",
   "execution_count": 23,
   "id": "3f929744",
   "metadata": {},
   "outputs": [
    {
     "name": "stdout",
     "output_type": "stream",
     "text": [
      "+--------+----------+-------------+------------------+--------+-----+-----------+------------------+---------------------------+--------+\n",
      "|Order NO|Order Date|    Countries|        Pie_Flavor|Quantity|Price|Amount Sold|Slice Or Whole Pie|Pre-Order/In-Store Purchase|Organic?|\n",
      "+--------+----------+-------------+------------------+--------+-----+-----------+------------------+---------------------------+--------+\n",
      "|   10004|      null|     Botswana|             Apple|       4| 8302|      33208|             Whole|                  Pre-Order|      No|\n",
      "|   10006|      null|      Burundi|             Apple|       3| 7710|      23130|             Whole|                  Pre-Order|      No|\n",
      "|   10010|      null|         Chad|Strawberry Rhubarb|       1| 8437|       8437|             Slice|                   In-Store|      No|\n",
      "|   10015|      null|     DR Congo|             Apple|       4| 7937|      31748|             Whole|                  Pre-Order|     Yes|\n",
      "|   10022|      null|       Gambia|             Apple|       4| 7851|      31404|             Whole|                   In-Store|     Yes|\n",
      "|   10023|      null|        Ghana|             Fudge|       2| 8841|      17682|             Whole|                   In-Store|     Yes|\n",
      "|   10025|      null|Guinea-Bissau|             Apple|       1| 7620|       7620|             Slice|                  Pre-Order|     Yes|\n",
      "|   10029|      null|        Libya|             Fudge|       5| 8368|      41840|             Slice|                  Pre-Order|     Yes|\n",
      "|   10033|      null|   Mauritania|         Blueberry|       1| 7071|       7071|             Whole|                   In-Store|     Yes|\n",
      "|   10042|      null|      Senegal|             Apple|       4| 7544|      30176|             Slice|                  Pre-Order|     Yes|\n",
      "|   10047|      null|  South Sudan|Strawberry Rhubarb|       1| 8978|       8978|             Whole|                  Pre-Order|     Yes|\n",
      "|   10050|      null|         Togo|             Apple|       4| 8987|      35948|             Whole|                  Pre-Order|     Yes|\n",
      "|   10059|      null| Burkina Faso|             Fudge|       1| 7861|       7861|             Whole|                  Pre-Order|     Yes|\n",
      "|   10064|      null|         Chad|             Fudge|       3| 8543|      25629|             Whole|                   In-Store|     Yes|\n",
      "|   10074|      null|     Ethiopia|Strawberry Rhubarb|       5| 8057|      40285|             Slice|                  Pre-Order|     Yes|\n",
      "|   10081|      null|      Lesotho|Strawberry Rhubarb|       5| 8293|      41465|             Whole|                   In-Store|     Yes|\n",
      "|   10088|      null|    Mauritius|Strawberry Rhubarb|       2| 8013|      16026|             Slice|                  Pre-Order|      No|\n",
      "|   10099|      null|      Somalia|             Apple|       3| 8789|      26367|             Slice|                  Pre-Order|     Yes|\n",
      "|   10102|      null|        Sudan|             Apple|       5| 8800|      44000|             Whole|                  Pre-Order|      No|\n",
      "|   10107|      null|       Zambia|           Pumpkin|       5| 8077|      40385|             Slice|                  Pre-Order|      No|\n",
      "+--------+----------+-------------+------------------+--------+-----+-----------+------------------+---------------------------+--------+\n",
      "only showing top 20 rows\n",
      "\n"
     ]
    }
   ],
   "source": [
    "df_pyspark_2.filter((df_pyspark_2['Price']>=7000) & (df_pyspark_2['Price']<=9000)).show() #This gives between the range of 7e3-9e3"
   ]
  },
  {
   "cell_type": "markdown",
   "id": "47de1aa1",
   "metadata": {},
   "source": [
    "## Create a new column by multiplying and adding two existing columns"
   ]
  },
  {
   "cell_type": "code",
   "execution_count": 24,
   "id": "fbe810ab",
   "metadata": {},
   "outputs": [],
   "source": [
    "df_pyspark_2 = df_pyspark_2.withColumn(\"Total_Amount_Sold\", col(\"Quantity\") * col(\"Price\"))"
   ]
  },
  {
   "cell_type": "code",
   "execution_count": 25,
   "id": "29c38644",
   "metadata": {},
   "outputs": [
    {
     "name": "stdout",
     "output_type": "stream",
     "text": [
      "+-----------------+-----------+\n",
      "|Total_Amount_Sold|Amount Sold|\n",
      "+-----------------+-----------+\n",
      "|            33605|      33605|\n",
      "|            13716|      13716|\n",
      "|            11586|      11586|\n",
      "|            33208|      33208|\n",
      "|            11206|      11206|\n",
      "|            23130|      23130|\n",
      "|            14613|      14613|\n",
      "|            47315|      47315|\n",
      "|            14910|      14910|\n",
      "|             8437|       8437|\n",
      "|            10260|      10260|\n",
      "|             4590|       4590|\n",
      "|            12874|      12874|\n",
      "|             9574|       9574|\n",
      "|            31748|      31748|\n",
      "|             8024|       8024|\n",
      "|            16956|      16956|\n",
      "|             1627|       1627|\n",
      "|            32710|      32710|\n",
      "|             7325|       7325|\n",
      "+-----------------+-----------+\n",
      "only showing top 20 rows\n",
      "\n"
     ]
    }
   ],
   "source": [
    "df_pyspark_2.select([\"Total_Amount_Sold\",\"Amount Sold\"]).show()"
   ]
  },
  {
   "cell_type": "markdown",
   "id": "22defa06",
   "metadata": {},
   "source": [
    "## Pyspark GroupBy and Aggregate Functions"
   ]
  },
  {
   "cell_type": "code",
   "execution_count": 35,
   "id": "df7cd6f3",
   "metadata": {},
   "outputs": [
    {
     "name": "stdout",
     "output_type": "stream",
     "text": [
      "+------------------+-------------+-------------+----------+----------------+----------------------+\n",
      "|        Pie_Flavor|sum(Order NO)|sum(Quantity)|sum(Price)|sum(Amount Sold)|sum(Total_Amount_Sold)|\n",
      "+------------------+-------------+-------------+----------+----------------+----------------------+\n",
      "|Strawberry Rhubarb|      7245335|         1870|   3511829|        10457081|              10457081|\n",
      "|             Mango|       999563|          279|    477648|         1522151|               1522151|\n",
      "|           Pumpkin|      5775006|         1507|   2804354|         8313987|               8313987|\n",
      "|             Fudge|      3534468|          968|   1659068|         5139027|               5139027|\n",
      "|            Cherry|      3667886|          957|   1736496|         5186149|               5186149|\n",
      "|             Apple|      7996745|         2148|   3791402|        11467975|              11467975|\n",
      "|         Blueberry|      2357148|          604|   1166427|         3381975|               3381975|\n",
      "+------------------+-------------+-------------+----------+----------------+----------------------+\n",
      "\n"
     ]
    }
   ],
   "source": [
    "df_pyspark_2.groupBy(\"Pie_Flavor\").sum().show()"
   ]
  },
  {
   "cell_type": "code",
   "execution_count": 34,
   "id": "84efe848",
   "metadata": {},
   "outputs": [],
   "source": [
    "from pyspark.sql.functions import regexp_replace\n",
    "\n",
    "# Replace all occurrences of the value \"John\" in the \"name\" column with \"Jane\"\n",
    "df_pyspark_2 = df_pyspark_2.withColumn(\"Pie_Flavor\", regexp_replace(\"Pie_Flavor\", \"Other\", \"Mango\"))"
   ]
  },
  {
   "cell_type": "code",
   "execution_count": 36,
   "id": "ce90f1fd",
   "metadata": {},
   "outputs": [
    {
     "name": "stdout",
     "output_type": "stream",
     "text": [
      "+------------------+-------------+-------------+----------+----------------+----------------------+\n",
      "|        Pie_Flavor|sum(Order NO)|sum(Quantity)|sum(Price)|sum(Amount Sold)|sum(Total_Amount_Sold)|\n",
      "+------------------+-------------+-------------+----------+----------------+----------------------+\n",
      "|Strawberry Rhubarb|      7245335|         1870|   3511829|        10457081|              10457081|\n",
      "|             Mango|       999563|          279|    477648|         1522151|               1522151|\n",
      "|           Pumpkin|      5775006|         1507|   2804354|         8313987|               8313987|\n",
      "|             Fudge|      3534468|          968|   1659068|         5139027|               5139027|\n",
      "|            Cherry|      3667886|          957|   1736496|         5186149|               5186149|\n",
      "|             Apple|      7996745|         2148|   3791402|        11467975|              11467975|\n",
      "|         Blueberry|      2357148|          604|   1166427|         3381975|               3381975|\n",
      "+------------------+-------------+-------------+----------+----------------+----------------------+\n",
      "\n"
     ]
    }
   ],
   "source": [
    "df_pyspark_2.groupBy(\"Pie_Flavor\").sum().show()"
   ]
  },
  {
   "cell_type": "code",
   "execution_count": 37,
   "id": "6f262ec7",
   "metadata": {},
   "outputs": [
    {
     "name": "stdout",
     "output_type": "stream",
     "text": [
      "+--------+----------+----------+----------+--------+-----+-----------+------------------+---------------------------+--------+-----------------+\n",
      "|Order NO|Order Date| Countries|Pie_Flavor|Quantity|Price|Amount Sold|Slice Or Whole Pie|Pre-Order/In-Store Purchase|Organic?|Total_Amount_Sold|\n",
      "+--------+----------+----------+----------+--------+-----+-----------+------------------+---------------------------+--------+-----------------+\n",
      "|   10073|      null|  Eswatini|     Mango|       2| 3472|       6944|             Whole|                  Pre-Order|     Yes|             6944|\n",
      "|   10077|      null|     Ghana|     Mango|       5| 2956|      14780|             Slice|                   In-Store|     Yes|            14780|\n",
      "|   10232|      null|     Egypt|     Mango|       2| 1308|       2616|             Slice|                  Pre-Order|     Yes|             2616|\n",
      "|   10247|      null|    Malawi|     Mango|       2| 2367|       4734|             Whole|                   In-Store|     Yes|             4734|\n",
      "|   10265|      null|  Tanzania|     Mango|       1| 3848|       3848|             Slice|                  Pre-Order|     Yes|             3848|\n",
      "|   10278|      null|  Cameroon|     Mango|       2| 7814|      15628|             Whole|                   In-Store|     Yes|            15628|\n",
      "|   10309|      null|   Nigeria|     Mango|       3| 8119|      24357|             Whole|                  Pre-Order|     Yes|            24357|\n",
      "|   10332|      null|  Cameroon|     Mango|       3| 3696|      11088|             Whole|                   In-Store|     Yes|            11088|\n",
      "|   10334|      null|      Chad|     Mango|       2| 1536|       3072|             Slice|                   In-Store|     Yes|             3072|\n",
      "|   10346|      null|    Gambia|     Mango|       1| 8163|       8163|             Whole|                   In-Store|     Yes|             8163|\n",
      "|   10348|      null|    Guinea|     Mango|       2| 9438|      18876|             Whole|                  Pre-Order|     Yes|            18876|\n",
      "|   10361|      null|   Namibia|     Mango|       4| 9600|      38400|             Whole|                   In-Store|     Yes|            38400|\n",
      "|   10378|      null|  Zimbabwe|     Mango|       2| 3119|       6238|             Whole|                  Pre-Order|     Yes|             6238|\n",
      "|   10382|      null|  Botswana|     Mango|       5| 3180|      15900|             Slice|                  Pre-Order|     Yes|            15900|\n",
      "|   10475|      null|Seychelles|     Mango|       1| 1610|       1610|             Slice|                   In-Store|     Yes|             1610|\n",
      "|   10487|      null|   Algeria|     Mango|       5| 6056|      30280|             Slice|                  Pre-Order|     Yes|            30280|\n",
      "|   10490|      null|  Botswana|     Mango|       5| 9725|      48625|             Slice|                  Pre-Order|     Yes|            48625|\n",
      "|   10550|      null|      Chad|     Mango|       3| 3500|      10500|             Whole|                  Pre-Order|      No|            10500|\n",
      "|   10552|      null|     Congo|     Mango|       1| 7139|       7139|             Slice|                  Pre-Order|     Yes|             7139|\n",
      "|   10554|      null|  Djibouti|     Mango|       1| 5903|       5903|             Slice|                  Pre-Order|     Yes|             5903|\n",
      "+--------+----------+----------+----------+--------+-----+-----------+------------------+---------------------------+--------+-----------------+\n",
      "only showing top 20 rows\n",
      "\n"
     ]
    }
   ],
   "source": [
    "df_pyspark_2.filter(df_pyspark_2['Pie_Flavor']=='Mango').show()"
   ]
  },
  {
   "cell_type": "code",
   "execution_count": null,
   "id": "42f1fb79",
   "metadata": {},
   "outputs": [],
   "source": []
  }
 ],
 "metadata": {
  "kernelspec": {
   "display_name": "Python 3 (ipykernel)",
   "language": "python",
   "name": "python3"
  },
  "language_info": {
   "codemirror_mode": {
    "name": "ipython",
    "version": 3
   },
   "file_extension": ".py",
   "mimetype": "text/x-python",
   "name": "python",
   "nbconvert_exporter": "python",
   "pygments_lexer": "ipython3",
   "version": "3.10.4"
  }
 },
 "nbformat": 4,
 "nbformat_minor": 5
}
