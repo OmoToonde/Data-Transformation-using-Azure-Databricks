{
 "cells": [
  {
   "cell_type": "markdown",
   "id": "75987082",
   "metadata": {},
   "source": [
    "# Mount the data lake storage gen2 & Blob Storage Containers\n",
    "\n",
    "## Step 1: Mount Data Lake Gen2\n",
    "\n",
    "## Set-up the configs\n",
    "### Please update the following\n",
    "- application-id\n",
    "- service-credential\n",
    "- directory-id\n",
    "- [Mount Data Lake Gen2 to Azure Databricks](https://learn.microsoft.com/en-us/azure/databricks/getting-started/connect-to-azure-storage)\n",
    "- [Mount Azure Blob Storage](https://docs.databricks.com/_static/notebooks/data-sources/mount-azure-blob-storage.html)"
   ]
  },
  {
   "cell_type": "code",
   "execution_count": null,
   "id": "7523b625",
   "metadata": {},
   "outputs": [],
   "source": [
    "configs = {\"fs.azure.account.auth.type\": \"OAuth\",\n",
    "           \"fs.azure.account.oauth.provider.type\": \"org.apache.hadoop.fs.azurebfs.oauth2.ClientCredsTokenProvider\",\n",
    "           \"fs.azure.account.oauth2.client.id\": \"<app-id>\",#application-id\n",
    "           \"fs.azure.account.oauth2.client.secret\": \"<secret_key>\",#secret key\n",
    "           \"fs.azure.account.oauth2.client.endpoint\": \"<tanent_id>\"}#Tanent ID Directory"
   ]
  },
  {
   "cell_type": "markdown",
   "id": "6b216d13",
   "metadata": {},
   "source": [
    "### Folder Directory to be mounted"
   ]
  },
  {
   "cell_type": "code",
   "execution_count": null,
   "id": "001adf96",
   "metadata": {},
   "outputs": [],
   "source": [
    "dbutils.fs.mount(\n",
    "  source = \"abfss://<folder_name>@<storage_name>.dfs.core.windows.net/\",#Mount your data lake gen 2\n",
    "  mount_point = \"/<storage_name>/<folder_name>\",\n",
    "  extra_configs = configs)"
   ]
  },
  {
   "cell_type": "markdown",
   "id": "42073b05",
   "metadata": {},
   "source": [
    "# Check if the material in folder exist\n",
    "This will provide you with a list of materials found."
   ]
  },
  {
   "cell_type": "code",
   "execution_count": null,
   "id": "9ff69d9b",
   "metadata": {},
   "outputs": [],
   "source": [
    "dbutils.fs.ls(\"/mnt/<storage_name>/<folder_name>\")# This shows the list of the Mounted folder."
   ]
  },
  {
   "cell_type": "markdown",
   "id": "96184c64",
   "metadata": {},
   "source": [
    "## Step 2: Mount Azure Blob Storage\n",
    "You can mount Azure Blob storage by using the \"Account Key\" or \"SAS Key\""
   ]
  },
  {
   "cell_type": "code",
   "execution_count": null,
   "id": "e39af4a3",
   "metadata": {},
   "outputs": [],
   "source": [
    "dbutils.fs.mount(source='wasbs://<folder>@<Blob_Storage_name>.blob.core.windows.net',\n",
    "                mount_point = '/mnt/blobstorage/rawsample',\n",
    "                extra_configs= {'fs.azure.account.key.<Blob_Storage_name>.blob.core.windows.net':'<Access_Key>'})"
   ]
  },
  {
   "cell_type": "code",
   "execution_count": null,
   "id": "7ede0e58",
   "metadata": {},
   "outputs": [],
   "source": [
    "#Check the list available in that folder\n",
    "dbutils.fs.ls('/mnt/<Blob_Storage_name>/<folder>')"
   ]
  }
 ],
 "metadata": {
  "kernelspec": {
   "display_name": "Python 3 (ipykernel)",
   "language": "python",
   "name": "python3"
  },
  "language_info": {
   "codemirror_mode": {
    "name": "ipython",
    "version": 3
   },
   "file_extension": ".py",
   "mimetype": "text/x-python",
   "name": "python",
   "nbconvert_exporter": "python",
   "pygments_lexer": "ipython3",
   "version": "3.10.4"
  }
 },
 "nbformat": 4,
 "nbformat_minor": 5
}
