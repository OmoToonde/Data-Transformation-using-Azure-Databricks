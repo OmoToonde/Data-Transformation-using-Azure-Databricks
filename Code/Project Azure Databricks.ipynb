{
 "cells": [
  {
   "cell_type": "markdown",
   "id": "82dca056",
   "metadata": {},
   "source": [
    "### To read Excel File using PySpark, you fist need to read the file using Pandas then convert to PySPark Dataframe"
   ]
  },
  {
   "cell_type": "markdown",
   "id": "c4e8d2db",
   "metadata": {},
   "source": [
    "## Step 1: Import all necessary libries"
   ]
  },
  {
   "cell_type": "code",
   "execution_count": null,
   "id": "a0bb800c",
   "metadata": {},
   "outputs": [],
   "source": [
    "df = pd.read_excel(\"Sales-Data_01.xlsx\")"
   ]
  },
  {
   "cell_type": "code",
   "execution_count": null,
   "id": "3667669c",
   "metadata": {},
   "outputs": [],
   "source": [
    "df.head()"
   ]
  },
  {
   "cell_type": "code",
   "execution_count": null,
   "id": "89f1af69",
   "metadata": {},
   "outputs": [],
   "source": [
    "df.to_csv(\"sales_data.csv\", index=False)"
   ]
  },
  {
   "cell_type": "code",
   "execution_count": 1,
   "id": "5dd623e0",
   "metadata": {},
   "outputs": [],
   "source": [
    "import pyspark\n",
    "import pandas as pd\n",
    "from pyspark.sql import SparkSession"
   ]
  },
  {
   "cell_type": "code",
   "execution_count": 2,
   "id": "d6675b35",
   "metadata": {},
   "outputs": [],
   "source": [
    "#Start spark session\n",
    "#We need to set a App Name, this might take longer if doing it for the first time.\n",
    "spark = SparkSession.builder.config(\"spark.driver.host\", \"localhost\").appName('tutorial').getOrCreate()"
   ]
  },
  {
   "cell_type": "code",
   "execution_count": 3,
   "id": "64d0469b",
   "metadata": {},
   "outputs": [
    {
     "data": {
      "text/html": [
       "\n",
       "            <div>\n",
       "                <p><b>SparkSession - in-memory</b></p>\n",
       "                \n",
       "        <div>\n",
       "            <p><b>SparkContext</b></p>\n",
       "\n",
       "            <p><a href=\"http://localhost:4042\">Spark UI</a></p>\n",
       "\n",
       "            <dl>\n",
       "              <dt>Version</dt>\n",
       "                <dd><code>v3.3.1</code></dd>\n",
       "              <dt>Master</dt>\n",
       "                <dd><code>local[*]</code></dd>\n",
       "              <dt>AppName</dt>\n",
       "                <dd><code>tutorial</code></dd>\n",
       "            </dl>\n",
       "        </div>\n",
       "        \n",
       "            </div>\n",
       "        "
      ],
      "text/plain": [
       "<pyspark.sql.session.SparkSession at 0x24263095510>"
      ]
     },
     "execution_count": 3,
     "metadata": {},
     "output_type": "execute_result"
    }
   ],
   "source": [
    "spark"
   ]
  },
  {
   "cell_type": "markdown",
   "id": "8b936b60",
   "metadata": {},
   "source": [
    "**Read Data using Spark**"
   ]
  },
  {
   "cell_type": "markdown",
   "id": "c8435c34",
   "metadata": {},
   "source": [
    "# Task 1: Sales Data"
   ]
  },
  {
   "cell_type": "code",
   "execution_count": 4,
   "id": "d0c63ac6",
   "metadata": {},
   "outputs": [],
   "source": [
    "df_pyspark_2 = spark.read.csv(\"sales_data.csv\", header=True, inferSchema=True)\n",
    "#InferSchema endures the right datatype are in each individual columns"
   ]
  },
  {
   "cell_type": "markdown",
   "id": "3d138ba9",
   "metadata": {},
   "source": [
    "## Step 3: Data Transformation & Cleaning"
   ]
  },
  {
   "cell_type": "code",
   "execution_count": 5,
   "id": "5f3cd1c7",
   "metadata": {},
   "outputs": [
    {
     "name": "stdout",
     "output_type": "stream",
     "text": [
      "root\n",
      " |-- S/N: integer (nullable = true)\n",
      " |-- Date: timestamp (nullable = true)\n",
      " |-- Branch: string (nullable = true)\n",
      " |-- Pizza Sold: string (nullable = true)\n",
      " |-- Price: integer (nullable = true)\n",
      " |-- Quantity: integer (nullable = true)\n",
      " |-- Sales Discount: double (nullable = true)\n",
      " |-- Time: timestamp (nullable = true)\n",
      " |-- Time Range: string (nullable = true)\n",
      "\n"
     ]
    }
   ],
   "source": [
    "#View each columns datatypes\n",
    "df_pyspark_2.printSchema()"
   ]
  },
  {
   "cell_type": "code",
   "execution_count": 6,
   "id": "de41629d",
   "metadata": {},
   "outputs": [
    {
     "name": "stdout",
     "output_type": "stream",
     "text": [
      "+---+-------------------+-------+----------------+-----+--------+--------------+--------------------+-------------+\n",
      "|S/N|               Date| Branch|      Pizza Sold|Price|Quantity|Sales Discount|                Time|   Time Range|\n",
      "+---+-------------------+-------+----------------+-----+--------+--------------+--------------------+-------------+\n",
      "|  1|2021-06-10 00:00:00|  Italy|         Meatzaa| 2000|       5|          0.03| 2022-12-17 15:57:36|Before 9:00am|\n",
      "|  2|2020-10-05 00:00:00| France|    Extravaganza| 2000|       4|          0.07|2022-12-17 17:54:...|Before 9:00am|\n",
      "|  3|2020-11-04 00:00:00|  Spain|     BBQ Chicken| 4000|       5|          0.05|2022-12-17 09:04:...|Before 9:00am|\n",
      "|  4|2021-10-27 00:00:00| France|    Extravaganza| 2000|       1|           0.0|2022-12-17 16:03:...|Before 9:00am|\n",
      "|  5|2020-10-20 00:00:00|England|         Meatzaa| 2000|       4|           0.0|2022-12-17 08:54:...|Before 9:00am|\n",
      "|  6|2020-09-10 00:00:00|Germany|      Hot Veggie| 4000|       2|           0.1|2022-12-17 15:38:...|Before 9:00am|\n",
      "|  7|2020-03-15 00:00:00|  Italy|BBQ Philly Steak| 4000|       5|          0.05|2022-12-17 11:44:...|Before 9:00am|\n",
      "|  8|2020-04-21 00:00:00| France|   Chicken Feast| 2000|       1|           0.0|2022-12-17 17:34:...|Before 9:00am|\n",
      "|  9|2021-02-05 00:00:00|England|         Meatzaa| 2000|       3|          0.05|2022-12-17 13:20:...|Before 9:00am|\n",
      "| 10|2022-06-17 00:00:00|  Italy|    Chicken Suya| 4000|       5|           0.0| 2022-12-17 10:48:00|Before 9:00am|\n",
      "| 11|2020-05-20 00:00:00|  Spain|  Chicken Legend| 2000|       5|          0.03|2022-12-17 10:13:...|Before 9:00am|\n",
      "| 12|2021-02-06 00:00:00|England|BBQ Philly Steak| 4000|       4|          0.05| 2022-12-17 08:31:12|Before 9:00am|\n",
      "| 13|2021-09-13 00:00:00|England|    Chicken Suya| 4000|       2|          0.05|2022-12-17 13:52:...|Before 9:00am|\n",
      "| 14|2021-01-28 00:00:00|  Italy|   Chicken Feast| 2000|       5|          0.03|2022-12-17 14:05:...|Before 9:00am|\n",
      "| 15|2021-02-25 00:00:00|Germany|   Chicken Feast| 2000|       4|           0.0|2022-12-17 16:45:...|Before 9:00am|\n",
      "| 16|2021-10-14 00:00:00|  Spain|       Beef Suya| 3000|       5|          0.05|2022-12-17 12:27:...|Before 9:00am|\n",
      "| 17|2020-04-22 00:00:00|England|   Chicken Feast| 2000|       5|          0.05|2022-12-17 17:13:...|Before 9:00am|\n",
      "| 18|2021-11-23 00:00:00|  Spain|      Hot Veggie| 4000|       5|          0.03| 2022-12-17 15:21:36|Before 9:00am|\n",
      "| 19|2020-06-04 00:00:00|Germany|         Meatzaa| 2000|       5|           0.1|2022-12-17 14:13:...|Before 9:00am|\n",
      "| 20|2022-04-14 00:00:00|  Italy|         Meatzaa| 2000|       2|          0.05|2022-12-17 09:15:...|Before 9:00am|\n",
      "+---+-------------------+-------+----------------+-----+--------+--------------+--------------------+-------------+\n",
      "only showing top 20 rows\n",
      "\n"
     ]
    }
   ],
   "source": [
    "df_pyspark_2.show()"
   ]
  },
  {
   "cell_type": "code",
   "execution_count": 7,
   "id": "a4502dd9",
   "metadata": {},
   "outputs": [],
   "source": [
    "from pyspark.sql.functions import to_date, col\n",
    "df_pyspark_2 = df_pyspark_2.withColumn(\"Total_Amount_Sold\", col(\"Quantity\") * col(\"Price\")*(1-col(\"Sales Discount\")))\n"
   ]
  },
  {
   "cell_type": "code",
   "execution_count": 8,
   "id": "e62793fa",
   "metadata": {},
   "outputs": [
    {
     "name": "stdout",
     "output_type": "stream",
     "text": [
      "+----------------+-----------------+\n",
      "|      Pizza Sold|Total_Amount_Sold|\n",
      "+----------------+-----------------+\n",
      "|         Meatzaa|           9700.0|\n",
      "|    Extravaganza|7439.999999999999|\n",
      "|     BBQ Chicken|          19000.0|\n",
      "|    Extravaganza|           2000.0|\n",
      "|         Meatzaa|           8000.0|\n",
      "|      Hot Veggie|           7200.0|\n",
      "|BBQ Philly Steak|          19000.0|\n",
      "|   Chicken Feast|           2000.0|\n",
      "|         Meatzaa|           5700.0|\n",
      "|    Chicken Suya|          20000.0|\n",
      "|  Chicken Legend|           9700.0|\n",
      "|BBQ Philly Steak|          15200.0|\n",
      "|    Chicken Suya|           7600.0|\n",
      "|   Chicken Feast|           9700.0|\n",
      "|   Chicken Feast|           8000.0|\n",
      "|       Beef Suya|          14250.0|\n",
      "|   Chicken Feast|           9500.0|\n",
      "|      Hot Veggie|          19400.0|\n",
      "|         Meatzaa|           9000.0|\n",
      "|         Meatzaa|           3800.0|\n",
      "+----------------+-----------------+\n",
      "only showing top 20 rows\n",
      "\n"
     ]
    }
   ],
   "source": [
    "df_pyspark_2.select([\"Pizza Sold\",\"Total_Amount_Sold\"]).show()"
   ]
  },
  {
   "cell_type": "markdown",
   "id": "7b0fba55",
   "metadata": {},
   "source": [
    "### Final Aggregate Value for the Data Analyst"
   ]
  },
  {
   "cell_type": "code",
   "execution_count": 9,
   "id": "866348d9",
   "metadata": {},
   "outputs": [
    {
     "name": "stdout",
     "output_type": "stream",
     "text": [
      "+-------------------+----------------------+\n",
      "|         Pizza Sold|sum(Total_Amount_Sold)|\n",
      "+-------------------+----------------------+\n",
      "|     Pepperoni Suya|             3109110.0|\n",
      "|      Chicken Feast|             1681880.0|\n",
      "|          Beef Suya|             2839650.0|\n",
      "|          Margarita|             3358920.0|\n",
      "|Hot Pepperoni Feast|             4125800.0|\n",
      "|   BBQ Philly Steak|             3669920.0|\n",
      "|     Veggie Supreme|             2916810.0|\n",
      "|         Hot Veggie|             3662480.0|\n",
      "|    Pepperoni Feast|             3483400.0|\n",
      "|            Meatzaa|             1620900.0|\n",
      "|       Extravaganza|             1752760.0|\n",
      "|        BBQ Chicken|             3466680.0|\n",
      "|       Chicken Bali|             1716320.0|\n",
      "|           Italiano|             2842020.0|\n",
      "|     Chicken Legend|             1702500.0|\n",
      "|       Chicken Suya|             3675360.0|\n",
      "+-------------------+----------------------+\n",
      "\n"
     ]
    }
   ],
   "source": [
    "df_pyspark_2.groupBy(\"Pizza Sold\").agg({\"Total_Amount_Sold\":\"sum\"}).show()"
   ]
  },
  {
   "cell_type": "code",
   "execution_count": 10,
   "id": "1d2e1a3c",
   "metadata": {},
   "outputs": [],
   "source": [
    "df_pyspark_2 = df_pyspark_2.groupBy(\"Pizza Sold\").agg({\"Total_Amount_Sold\":\"sum\"})"
   ]
  },
  {
   "cell_type": "code",
   "execution_count": 11,
   "id": "619538ed",
   "metadata": {},
   "outputs": [
    {
     "name": "stdout",
     "output_type": "stream",
     "text": [
      "+-------------------+----------------------+\n",
      "|         Pizza Sold|sum(Total_Amount_Sold)|\n",
      "+-------------------+----------------------+\n",
      "|     Pepperoni Suya|             3109110.0|\n",
      "|      Chicken Feast|             1681880.0|\n",
      "|          Beef Suya|             2839650.0|\n",
      "|          Margarita|             3358920.0|\n",
      "|Hot Pepperoni Feast|             4125800.0|\n",
      "|   BBQ Philly Steak|             3669920.0|\n",
      "|     Veggie Supreme|             2916810.0|\n",
      "|         Hot Veggie|             3662480.0|\n",
      "|    Pepperoni Feast|             3483400.0|\n",
      "|            Meatzaa|             1620900.0|\n",
      "|       Extravaganza|             1752760.0|\n",
      "|        BBQ Chicken|             3466680.0|\n",
      "|       Chicken Bali|             1716320.0|\n",
      "|           Italiano|             2842020.0|\n",
      "|     Chicken Legend|             1702500.0|\n",
      "|       Chicken Suya|             3675360.0|\n",
      "+-------------------+----------------------+\n",
      "\n"
     ]
    }
   ],
   "source": [
    "df_pyspark_2.show()"
   ]
  },
  {
   "cell_type": "markdown",
   "id": "0866efad",
   "metadata": {},
   "source": [
    "# Task 2: Target Data"
   ]
  },
  {
   "cell_type": "code",
   "execution_count": 12,
   "id": "9bbe3d49",
   "metadata": {},
   "outputs": [],
   "source": [
    "df_pyspark_1 = spark.read.csv(\"Sales-Target.csv\", header=True, inferSchema=True)\n",
    "#InferSchema endures the right datatype are in each individual columns"
   ]
  },
  {
   "cell_type": "code",
   "execution_count": 13,
   "id": "71836c53",
   "metadata": {},
   "outputs": [
    {
     "name": "stdout",
     "output_type": "stream",
     "text": [
      "+------+----+-------+--------------------+----------------+-----------+------------+-------------+--------------+------------+------------------+-------------------+-----------+------------------+--------------------+-----------+---------------+--------------+--------------+-----------+--------------------+\n",
      "| Years|Date| Branch|         BBQ Chicken|BBQ Philly Steak|  Beef Suya|Chicken Bali|Chicken Feast|Chicken Legend|Chicken Suya|      Extravaganza|Hot Pepperoni Feast| Hot Veggie|          Italiano|           Margarita|    Meatzaa|Pepperoni Feast|Pepperoni Suya|Veggie Supreme|Unnamed: 19|© UrBizEdge Limited |\n",
      "+------+----+-------+--------------------+----------------+-----------+------------+-------------+--------------+------------+------------------+-------------------+-----------+------------------+--------------------+-----------+---------------+--------------+--------------+-----------+--------------------+\n",
      "|2020.0| Jan|England|           2791833.6|       1872384.0| 1.005396E7|   2075048.0|    2526216.0|     3381012.0|   3295864.0|         2099229.6|          1824960.0|  2196135.0|         2831976.0|           6102995.2|  7971931.0|      2856971.0|     2303840.0|     2218080.0|       null|                null|\n",
      "|  null|null|  Italy|           4207526.4|       2633823.0|1.1364405E7|   1768008.0|    2500370.0|     1816488.0|   3008070.0|         2366311.2|          3067857.0|  3671550.0|1835287.2000000002|         1.1542824E7|  8085627.0|      2099889.0|     3116724.0|     2795148.0|       null|                null|\n",
      "|  null|null| France|           7019978.4|       4479921.0|2.1586015E7|   5964926.0|    7977720.0|     5558322.0|   4816320.0|         6088500.0|          5409426.0|  6477312.0|         6153852.0|2.2028619200000003E7|1.7805008E7|      6423844.0|     6126384.0|     4849605.0|       null|                null|\n",
      "|  null|null|  Spain|           9334720.0|       7225790.0|2.7299547E7|   6039456.0|    7707447.0|     7497820.0|   7914291.0|         6979142.4|          7359440.0|  6597297.0|         6110482.4|2.7871123200000003E7|2.9613493E7|    1.0462305E7|    1.032178E7|     7916029.0|       null|                null|\n",
      "|  null|null|Germany|  3913574.4000000004|       2996301.0|  9691440.0|   2821456.0|    3661700.0|     3547755.0|   2818569.0|         2983176.0|          2537838.0|  3774078.0|         1815072.0|        1.06122128E7|  6024288.0|      1997272.0|     2379390.0|     2210952.0|       null|                null|\n",
      "|  null| Feb|England|           4282028.8|       2375760.0|  7189800.0|   3069430.0|    3022552.0|     1872888.0|   2984397.0|         1654728.0|          2746146.0|  3371490.0|2513596.8000000003|           6362712.0|  6524478.0|      2147634.0|     1681182.0|     1834083.0|       null|                null|\n",
      "|  null|null|  Italy|           3163032.0|       2280894.0|1.1265995E7|   3214204.0|    3444672.0|     3350424.0|   1989408.0|1871366.4000000001|          2626164.0|  2912742.0|         2216016.0|           7744466.4|  8472997.0|      3365865.0|     3165390.0|     2078280.0|       null|                null|\n",
      "|  null|null| France|           9125844.0|       5714820.0| 2.362971E7|   5056128.0|    4254063.0|     4372760.0|   3849714.0|         3358864.0|          3852225.0|  4643850.0|         4676619.2|        1.15619648E7| 1.579398E7|      2997264.0|     3308136.0|     5320252.0|       null|                null|\n",
      "|  null|null|  Spain|        1.25039328E7|       4750000.0|  2.62807E7|   9769998.0|    5553264.0|     6282272.0|   5080192.0|         7108488.0|          6156870.0|  6869533.0|         5877158.4|        1.81213056E7|2.8462616E7|      9652845.0|     5388488.0|     6866580.0|       null|                null|\n",
      "|  null|null|Germany|           3545616.0|       2499372.0| 1.028434E7|   2422010.0|    2956005.0|     2491884.0|   2811780.0|         1361808.0|          2783550.0|  2330343.0|         2095113.6|           5695315.2|  5004808.0|      1726872.0|     2909010.0|     3355425.0|       null|                null|\n",
      "|  null| Mar|England|           6513852.0|       2999232.0|  8092992.0|   2500104.0|    2056464.0|     3881025.0|   2780074.0|         1885752.0|          2765334.0|  2887584.0|         2256117.6|        1.02983088E7|  7674630.0|      3938040.0|     2662296.0|     2808648.0|       null|                null|\n",
      "|  null|null|  Italy|   5113012.800000001|       3918726.0|  9610780.0|   2746194.0|    3228492.0|     2396520.0|   3447945.0|         2557497.6|          3917880.0|  3485850.0|         1584496.8|           7244395.2|  9531912.0|      2485380.0|     1961540.0|     3034680.0|       null|                null|\n",
      "|  null|null| France|           8223556.0|       7711830.0| 2.357808E7|   6952918.0|    5595535.0|     6007068.0|   7010145.0|         4788604.8|          6796734.0|  3982152.0|         3472200.0|1.4979585600000001E7|  1.31778E7|      7161870.0|     4201263.0|     5129640.0|       null|                null|\n",
      "|  null|null|  Spain|1.5824827200000001E7|       8495172.0|3.5159904E7|   6074536.0|    9369802.0|     8140462.0|   9409008.0|         9088020.0|         1.132776E7| 1.048992E7|         7181054.4|         2.3653608E7|2.8764879E7|      7872755.0|     8493881.0|   1.0915268E7|       null|                null|\n",
      "|  null|null|Germany|           3158208.0|       3454920.0| 1.455135E7|   3443076.0|    2197872.0|     3115944.0|   2020491.0|         2764332.0|          3179764.0|  3501876.0|1628275.2000000002|        1.15441984E7|  8275692.0|      3922440.0|     3131232.0|     3189693.0|       null|                null|\n",
      "|  null| Apr|England|           5292924.0|       2733372.0|1.1790519E7|   3350750.0|    2028429.0|     3707100.0|   2475108.0|         3048180.0|          2957760.0|  1951344.0|         2012709.6|   5923404.800000001|  6767667.0|      1811205.0|     2948616.0|     3504870.0|       null|                null|\n",
      "|  null|null|  Italy|   4564201.600000001|       3018004.0|1.2853638E7|   3454695.0|    3535098.0|     2196990.0|   2438326.0|         1873581.6|          3119550.0|  2117856.0|2124196.8000000003|1.0537259200000001E7|  6047604.0|      2862132.0|     2247048.0|     3479310.0|       null|                null|\n",
      "|  null|null| France|           9848560.8|       4340556.0|2.9278185E7|   5574852.0|    4173192.0|     6136273.0|   6683852.0|2842630.4000000004|          6840288.0|  6490344.0|         4581992.8|1.1695865600000001E7|1.2084192E7|      4470417.0|     7727520.0|     5864980.0|       null|                null|\n",
      "|  null|null|  Spain|1.6367153600000001E7|       8284512.0|3.7139518E7|   6424191.0|    7660642.0|     6376203.0|   9651614.0| 6010364.800000001|          8640489.0|1.0457874E7|         7169822.4|        3.31686768E7|1.9347183E7|      9131395.0|     6527736.0|     7450839.0|       null|                null|\n",
      "|  null|null|Germany|           3036416.0|       3642885.0|1.3672834E7|   1991736.0|    2876616.0|     2994510.0|   1718016.0|1590278.4000000001|          1890672.0|  1879119.0|1570003.2000000002|         1.1666868E7|  7278843.0|      1878471.0|     3247692.0|     1950312.0|       null|                null|\n",
      "+------+----+-------+--------------------+----------------+-----------+------------+-------------+--------------+------------+------------------+-------------------+-----------+------------------+--------------------+-----------+---------------+--------------+--------------+-----------+--------------------+\n",
      "only showing top 20 rows\n",
      "\n"
     ]
    }
   ],
   "source": [
    "df_pyspark_1.show()"
   ]
  },
  {
   "cell_type": "code",
   "execution_count": 14,
   "id": "1d4079ad",
   "metadata": {},
   "outputs": [
    {
     "name": "stdout",
     "output_type": "stream",
     "text": [
      "root\n",
      " |-- Years: double (nullable = true)\n",
      " |-- Date: string (nullable = true)\n",
      " |-- Branch: string (nullable = true)\n",
      " |-- BBQ Chicken: double (nullable = true)\n",
      " |-- BBQ Philly Steak: double (nullable = true)\n",
      " |-- Beef Suya: double (nullable = true)\n",
      " |-- Chicken Bali: double (nullable = true)\n",
      " |-- Chicken Feast: double (nullable = true)\n",
      " |-- Chicken Legend: double (nullable = true)\n",
      " |-- Chicken Suya: double (nullable = true)\n",
      " |-- Extravaganza: double (nullable = true)\n",
      " |-- Hot Pepperoni Feast: double (nullable = true)\n",
      " |-- Hot Veggie: double (nullable = true)\n",
      " |-- Italiano: double (nullable = true)\n",
      " |-- Margarita: double (nullable = true)\n",
      " |-- Meatzaa: double (nullable = true)\n",
      " |-- Pepperoni Feast: double (nullable = true)\n",
      " |-- Pepperoni Suya: double (nullable = true)\n",
      " |-- Veggie Supreme: double (nullable = true)\n",
      " |-- Unnamed: 19: string (nullable = true)\n",
      " |-- © UrBizEdge Limited : string (nullable = true)\n",
      "\n"
     ]
    }
   ],
   "source": [
    "#View each columns datatypes\n",
    "df_pyspark_1.printSchema()"
   ]
  },
  {
   "cell_type": "code",
   "execution_count": 15,
   "id": "c86b4c9d",
   "metadata": {},
   "outputs": [],
   "source": [
    "# delete two columns\n",
    "df_pyspark_1 = df_pyspark_1.drop(*('Unnamed: 19',\"© UrBizEdge Limited \"))\n"
   ]
  },
  {
   "cell_type": "code",
   "execution_count": 16,
   "id": "3df6bd3d",
   "metadata": {},
   "outputs": [
    {
     "data": {
      "text/plain": [
       "['Years',\n",
       " 'Date',\n",
       " 'Branch',\n",
       " 'BBQ Chicken',\n",
       " 'BBQ Philly Steak',\n",
       " 'Beef Suya',\n",
       " 'Chicken Bali',\n",
       " 'Chicken Feast',\n",
       " 'Chicken Legend',\n",
       " 'Chicken Suya',\n",
       " 'Extravaganza',\n",
       " 'Hot Pepperoni Feast',\n",
       " 'Hot Veggie',\n",
       " 'Italiano',\n",
       " 'Margarita',\n",
       " 'Meatzaa',\n",
       " 'Pepperoni Feast',\n",
       " 'Pepperoni Suya',\n",
       " 'Veggie Supreme']"
      ]
     },
     "execution_count": 16,
     "metadata": {},
     "output_type": "execute_result"
    }
   ],
   "source": [
    "df_pyspark_1.columns"
   ]
  },
  {
   "cell_type": "code",
   "execution_count": 17,
   "id": "477e7e8e",
   "metadata": {},
   "outputs": [],
   "source": [
    "df_pyspark_1= df_pyspark_1.withColumnRenamed(\"BBQ Chicken\",\"BBQ_Chicken\")\n",
    "df_pyspark_1= df_pyspark_1.withColumnRenamed(\"BBQ Philly Steak\",\"BBQ_Philly_Steak\")\n",
    "df_pyspark_1= df_pyspark_1.withColumnRenamed(\"Beef Suya\",\"Beef_Suya\")\n",
    "df_pyspark_1= df_pyspark_1.withColumnRenamed(\"Chicken Bali\",\"Chicken_Bali\")\n",
    "df_pyspark_1= df_pyspark_1.withColumnRenamed(\"Chicken Feast\",\"Chicken_Feast\")\n",
    "df_pyspark_1= df_pyspark_1.withColumnRenamed(\"Chicken Legend\",\"Chicken_Legend\")\n",
    "df_pyspark_1= df_pyspark_1.withColumnRenamed(\"Chicken Suya\",\"Chicken_Suya\")\n",
    "df_pyspark_1= df_pyspark_1.withColumnRenamed(\"Hot Pepperoni Feast\",\"Hot_Pepperoni_Feast\")\n",
    "df_pyspark_1= df_pyspark_1.withColumnRenamed(\"Hot Veggie\",\"Hot_Veggie\")\n",
    "df_pyspark_1= df_pyspark_1.withColumnRenamed(\"Pepperoni Feast\",\"Pepperoni_Feast\")\n",
    "df_pyspark_1= df_pyspark_1.withColumnRenamed(\"Pepperoni Suya\",\"Pepperoni_Suya\")\n",
    "df_pyspark_1= df_pyspark_1.withColumnRenamed(\"Veggie Supreme\",\"Veggie_Supreme\")"
   ]
  },
  {
   "cell_type": "markdown",
   "id": "f90082ec",
   "metadata": {},
   "source": [
    "## You Need to UnPivot some columns"
   ]
  },
  {
   "cell_type": "code",
   "execution_count": 18,
   "id": "ea4a41ad",
   "metadata": {},
   "outputs": [],
   "source": [
    "from pyspark.sql.functions import expr\n",
    "from pyspark.sql.functions import array\n",
    "from pyspark.sql.functions import struct"
   ]
  },
  {
   "cell_type": "code",
   "execution_count": 19,
   "id": "573ee4c6",
   "metadata": {},
   "outputs": [],
   "source": [
    "#Note: Ensure there is no spacing when writing the code\n",
    "unpivotExpr = \"stack(16, 'BBQ_Chicken', BBQ_Chicken, 'BBQ_Philly_Steak', BBQ_Philly_Steak, 'Beef_Suya', Beef_Suya, 'Chicken_Bali', Chicken_Bali, 'Chicken_Feast', Chicken_Feast, 'Chicken_Legend', Chicken_Legend, 'Chicken_Suya', Chicken_Suya, 'Extravaganza', Extravaganza, 'Hot_Pepperoni_Feast', Hot_Pepperoni_Feast, 'Hot_Veggie', Hot_Veggie, 'Italiano', Italiano, 'Margarita', Margarita, 'Meatzaa', Meatzaa, 'Pepperoni_Feast', Pepperoni_Feast, 'Pepperoni_Suya', Pepperoni_Suya, 'Veggie_Supreme', Veggie_Supreme) as (Pizza_Products,Target_Amount_Sold)\"\n",
    "#columns = ['Years', 'Date', 'Branch']\n",
    "#df_pyspark_1.select(array(columns))\n",
    "df_pyspark_1 = df_pyspark_1.select(\"Years\",\"Date\",\"Branch\", expr(unpivotExpr))\n",
    "#df_pyspark_1 = df_pyspark_1.select(['Years', 'Date', 'Branch'], expr(unpivotExpr))"
   ]
  },
  {
   "cell_type": "code",
   "execution_count": 20,
   "id": "15822f3a",
   "metadata": {},
   "outputs": [
    {
     "name": "stdout",
     "output_type": "stream",
     "text": [
      "+------+----+-------+-------------------+------------------+\n",
      "| Years|Date| Branch|     Pizza_Products|Target_Amount_Sold|\n",
      "+------+----+-------+-------------------+------------------+\n",
      "|2020.0| Jan|England|        BBQ_Chicken|         2791833.6|\n",
      "|2020.0| Jan|England|   BBQ_Philly_Steak|         1872384.0|\n",
      "|2020.0| Jan|England|          Beef_Suya|        1.005396E7|\n",
      "|2020.0| Jan|England|       Chicken_Bali|         2075048.0|\n",
      "|2020.0| Jan|England|      Chicken_Feast|         2526216.0|\n",
      "|2020.0| Jan|England|     Chicken_Legend|         3381012.0|\n",
      "|2020.0| Jan|England|       Chicken_Suya|         3295864.0|\n",
      "|2020.0| Jan|England|       Extravaganza|         2099229.6|\n",
      "|2020.0| Jan|England|Hot_Pepperoni_Feast|         1824960.0|\n",
      "|2020.0| Jan|England|         Hot_Veggie|         2196135.0|\n",
      "|2020.0| Jan|England|           Italiano|         2831976.0|\n",
      "|2020.0| Jan|England|          Margarita|         6102995.2|\n",
      "|2020.0| Jan|England|            Meatzaa|         7971931.0|\n",
      "|2020.0| Jan|England|    Pepperoni_Feast|         2856971.0|\n",
      "|2020.0| Jan|England|     Pepperoni_Suya|         2303840.0|\n",
      "|2020.0| Jan|England|     Veggie_Supreme|         2218080.0|\n",
      "|  null|null|  Italy|        BBQ_Chicken|         4207526.4|\n",
      "|  null|null|  Italy|   BBQ_Philly_Steak|         2633823.0|\n",
      "|  null|null|  Italy|          Beef_Suya|       1.1364405E7|\n",
      "|  null|null|  Italy|       Chicken_Bali|         1768008.0|\n",
      "+------+----+-------+-------------------+------------------+\n",
      "only showing top 20 rows\n",
      "\n"
     ]
    }
   ],
   "source": [
    "df_pyspark_1.show()"
   ]
  },
  {
   "cell_type": "code",
   "execution_count": 24,
   "id": "f0d74add",
   "metadata": {},
   "outputs": [
    {
     "data": {
      "text/plain": [
       "'from pyspark.sql.functions import upward_fill, downward_fill\\n\\n# Fill up the column\\n#df = df.withColumn(\"column_name\", fillna(upward_fill(\"column_name\")))\\n\\n# Fill down the column\\ndf_pyspark_1.withColumn(\"Years\", fillna(downward_fill(\"Years\")))'"
      ]
     },
     "execution_count": 24,
     "metadata": {},
     "output_type": "execute_result"
    }
   ],
   "source": [
    "'''from pyspark.sql.functions import upward_fill, downward_fill\n",
    "\n",
    "# Fill up the column\n",
    "#df = df.withColumn(\"column_name\", fillna(upward_fill(\"column_name\")))\n",
    "\n",
    "# Fill down the column\n",
    "df_pyspark_1.withColumn(\"Years\", fillna(downward_fill(\"Years\")))'''\n",
    "#You need to update the Pyspark to be able to use the Fillna, Fill_Up & Fill_Down"
   ]
  },
  {
   "cell_type": "markdown",
   "id": "a6a0083f",
   "metadata": {},
   "source": [
    "## Aggregate(GroupBy) the Pizza and Amount SOld"
   ]
  },
  {
   "cell_type": "code",
   "execution_count": 25,
   "id": "7c789d3e",
   "metadata": {},
   "outputs": [
    {
     "data": {
      "text/plain": [
       "['Years', 'Date', 'Branch', 'Pizza_Products', 'Target_Amount_Sold']"
      ]
     },
     "execution_count": 25,
     "metadata": {},
     "output_type": "execute_result"
    }
   ],
   "source": [
    "df_pyspark_1.columns"
   ]
  },
  {
   "cell_type": "code",
   "execution_count": 26,
   "id": "b586190a",
   "metadata": {},
   "outputs": [
    {
     "name": "stdout",
     "output_type": "stream",
     "text": [
      "+-------------------+-----------------------+\n",
      "|     Pizza_Products|sum(Target_Amount_Sold)|\n",
      "+-------------------+-----------------------+\n",
      "|      Chicken_Feast|    5.870164388000001E8|\n",
      "|     Veggie_Supreme|           6.12804425E8|\n",
      "|     Chicken_Legend|          6.127479926E8|\n",
      "|          Margarita|   1.9355369595199997E9|\n",
      "|       Chicken_Bali|          5.767242822E8|\n",
      "|   BBQ_Philly_Steak|           5.88206461E8|\n",
      "|        BBQ_Chicken|    9.600649076800001E8|\n",
      "|       Chicken_Suya|          5.679765358E8|\n",
      "|            Meatzaa|         1.8048419424E9|\n",
      "|       Extravaganza|   4.7222161423999995E8|\n",
      "|    Pepperoni_Feast|           5.88681188E8|\n",
      "|         Hot_Veggie|    6.020760175999999E8|\n",
      "|     Pepperoni_Suya|    5.891687681999999E8|\n",
      "|Hot_Pepperoni_Feast|          5.871240264E8|\n",
      "|           Italiano|    4.669655563199999E8|\n",
      "|          Beef_Suya|   2.3177112623999996E9|\n",
      "+-------------------+-----------------------+\n",
      "\n"
     ]
    }
   ],
   "source": [
    "df_pyspark_1 = df_pyspark_1.groupBy(\"Pizza_Products\").agg({\"Target_Amount_Sold\":\"sum\"})\n",
    "df_pyspark_1.show()"
   ]
  },
  {
   "cell_type": "code",
   "execution_count": null,
   "id": "2ae627be",
   "metadata": {},
   "outputs": [],
   "source": []
  }
 ],
 "metadata": {
  "kernelspec": {
   "display_name": "Python 3 (ipykernel)",
   "language": "python",
   "name": "python3"
  },
  "language_info": {
   "codemirror_mode": {
    "name": "ipython",
    "version": 3
   },
   "file_extension": ".py",
   "mimetype": "text/x-python",
   "name": "python",
   "nbconvert_exporter": "python",
   "pygments_lexer": "ipython3",
   "version": "3.10.4"
  }
 },
 "nbformat": 4,
 "nbformat_minor": 5
}
